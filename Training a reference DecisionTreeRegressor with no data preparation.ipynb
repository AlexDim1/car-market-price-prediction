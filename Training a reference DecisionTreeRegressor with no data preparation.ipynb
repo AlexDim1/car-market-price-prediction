{
 "cells": [
  {
   "metadata": {},
   "cell_type": "code",
   "source": [
    "import matplotlib.pyplot as plt\n",
    "import missingno as msno\n",
    "import numpy as np\n",
    "import pandas as pd\n",
    "import seaborn as sns"
   ],
   "id": "initial_id",
   "outputs": [],
   "execution_count": null
  },
  {
   "metadata": {},
   "cell_type": "code",
   "source": "pd.set_option('display.float_format', '{:.2f}'.format)",
   "id": "2f5bf5036a8c06b1",
   "outputs": [],
   "execution_count": null
  },
  {
   "metadata": {},
   "cell_type": "code",
   "source": "dataset = pd.read_csv('./data/bg-car-offers.csv')",
   "id": "48f5fd7fc4c2ba87",
   "outputs": [],
   "execution_count": null
  },
  {
   "metadata": {},
   "cell_type": "code",
   "source": "dataset.sample(15)",
   "id": "24c480bc60033b01",
   "outputs": [],
   "execution_count": null
  },
  {
   "metadata": {},
   "cell_type": "code",
   "source": "dataset.info()",
   "id": "14509ba44125b6cd",
   "outputs": [],
   "execution_count": null
  },
  {
   "metadata": {},
   "cell_type": "code",
   "source": "dataset.shape",
   "id": "3a0f509e7b24c7a2",
   "outputs": [],
   "execution_count": null
  },
  {
   "metadata": {},
   "cell_type": "code",
   "source": "dataset.describe(include='all')",
   "id": "2f08ed9bdc6f1fae",
   "outputs": [],
   "execution_count": null
  },
  {
   "metadata": {},
   "cell_type": "code",
   "source": [
    "null_counts_per_column = dataset.isnull().sum().sort_values(ascending=False)\n",
    "null_counts_per_column"
   ],
   "id": "786dafc7002d554a",
   "outputs": [],
   "execution_count": null
  },
  {
   "metadata": {},
   "cell_type": "code",
   "source": [
    "fig = sns.barplot(x=null_counts_per_column, y=null_counts_per_column.index)\n",
    "fig.set_title('Count of missing values per column')\n",
    "fig.set_xlabel('Count of missing values')\n",
    "fig.set_ylabel('Column')"
   ],
   "id": "874d71181747c30c",
   "outputs": [],
   "execution_count": null
  },
  {
   "metadata": {},
   "cell_type": "code",
   "source": "msno.matrix(dataset.sample(500))",
   "id": "8ad2d09cf93df6bb",
   "outputs": [],
   "execution_count": null
  },
  {
   "metadata": {},
   "cell_type": "code",
   "source": "msno.heatmap(dataset)",
   "id": "2a8ba1900e2413cf",
   "outputs": [],
   "execution_count": null
  },
  {
   "metadata": {},
   "cell_type": "markdown",
   "source": [
    "# **Observations:**\n",
    "* If engine size is present then EV features are not present and vice versa.\n",
    "* EV features are always present together.\n",
    "* If manufacturing dates are present then mileage is also present.\n",
    "* Most of the time when any of the additional features columns (Other, Exterior, Interior) is present then the others are also present (author of the offer is lazy to fill them?).\n",
    "* City and Region are almost always present together."
   ],
   "id": "7b9a693615888dfd"
  },
  {
   "metadata": {},
   "cell_type": "code",
   "source": "msno.dendrogram(dataset)",
   "id": "60c57bd50a76c1f2",
   "outputs": [],
   "execution_count": null
  },
  {
   "metadata": {},
   "cell_type": "code",
   "source": [
    "categorical_features = dataset.select_dtypes(include=[object])\n",
    "categorical_features.columns"
   ],
   "id": "33ef5eddb7682d86",
   "outputs": [],
   "execution_count": null
  },
  {
   "metadata": {},
   "cell_type": "code",
   "source": [
    "numerical_features = dataset.select_dtypes(include=[np.number])\n",
    "numerical_features.columns"
   ],
   "id": "6f6760069b844e21",
   "outputs": [],
   "execution_count": null
  },
  {
   "metadata": {},
   "cell_type": "markdown",
   "source": "## Target feature - Price",
   "id": "d2bed8ed05490f21"
  },
  {
   "metadata": {},
   "cell_type": "code",
   "source": [
    "# Make Price column numerical\n",
    "y = dataset['Price']\n",
    "\n",
    "y.value_counts()"
   ],
   "id": "5fe4ddad5237c856",
   "outputs": [],
   "execution_count": null
  },
  {
   "metadata": {},
   "cell_type": "code",
   "source": "price_non_numeric_rows = dataset[~dataset['Price'].str.isdigit()]",
   "id": "39bf220e9b2079e4",
   "outputs": [],
   "execution_count": null
  },
  {
   "metadata": {},
   "cell_type": "code",
   "source": "dataset[dataset['Price'].str.contains('При запитване', case=False)]",
   "id": "b6d33155a89c2c54",
   "outputs": [],
   "execution_count": null
  },
  {
   "metadata": {},
   "cell_type": "code",
   "source": [
    "non_numeric_price_counts = price_non_numeric_rows['Price'].value_counts().reset_index()\n",
    "non_numeric_price_counts.columns = ['Price', 'Count']\n",
    "\n",
    "non_numeric_price_counts"
   ],
   "id": "d0230880521f83d9",
   "outputs": [],
   "execution_count": null
  },
  {
   "metadata": {},
   "cell_type": "code",
   "source": "sns.barplot(x='Price', y='Count', data=non_numeric_price_counts.head(10))",
   "id": "4e3643740990c057",
   "outputs": [],
   "execution_count": null
  },
  {
   "metadata": {},
   "cell_type": "code",
   "source": [
    "prepared_dataset = dataset.copy()\n",
    "\n",
    "# Remove currency symbols\n",
    "prepared_dataset['Price'] = prepared_dataset['Price'].str.replace('EUR', '')\n",
    "\n",
    "# Replace USD prices with NaN\n",
    "prepared_dataset.loc[prepared_dataset['Price'].str.contains('USD'), 'Price'] = np.nan\n",
    "\n",
    "# Replace 'При запитване' with NaN\n",
    "prepared_dataset.loc[prepared_dataset['Price'] == 'При запитване', 'Price'] = np.nan\n",
    "\n",
    "# Convert to float in order to fill NaN values\n",
    "prepared_dataset['Price'] = prepared_dataset['Price'].astype('float64').round()\n",
    "\n",
    "# Fill NaN values with the mean by model\n",
    "prepared_dataset['Price'] = prepared_dataset.groupby('Model')['Price'].transform(lambda x: x.fillna(x.mean()))\n",
    "\n",
    "prepared_dataset['Price'].value_counts(dropna=False)"
   ],
   "id": "1b6c24986cc0a84b",
   "outputs": [],
   "execution_count": null
  },
  {
   "metadata": {},
   "cell_type": "code",
   "source": "prepared_dataset['Price'].isna().sum()",
   "id": "d36c90639b50d8eb",
   "outputs": [],
   "execution_count": null
  },
  {
   "metadata": {},
   "cell_type": "code",
   "source": "prepared_dataset[prepared_dataset['Price'].isna()]",
   "id": "c2aacb4a05cee3a8",
   "outputs": [],
   "execution_count": null
  },
  {
   "metadata": {},
   "cell_type": "code",
   "source": [
    "# Drop rows still with nan Price\n",
    "prepared_dataset = prepared_dataset.dropna(subset=['Price'])\n",
    "\n",
    "prepared_dataset['Price'].notna().sum()"
   ],
   "id": "26b362e2621e4a34",
   "outputs": [],
   "execution_count": null
  },
  {
   "metadata": {},
   "cell_type": "code",
   "source": "prepared_dataset['Price'].isna().sum()",
   "id": "4ae201663fa1dbe8",
   "outputs": [],
   "execution_count": null
  },
  {
   "metadata": {},
   "cell_type": "code",
   "source": "prepared_dataset[prepared_dataset['Price'] == 'При запитване']",
   "id": "3b4064179c432f14",
   "outputs": [],
   "execution_count": null
  },
  {
   "metadata": {},
   "cell_type": "code",
   "source": "prepared_dataset['Price'].value_counts(dropna=False)",
   "id": "e99273c27c099f2e",
   "outputs": [],
   "execution_count": null
  },
  {
   "metadata": {},
   "cell_type": "code",
   "source": "prepared_dataset['Price'].describe()",
   "id": "ae1670b2b151cc44",
   "outputs": [],
   "execution_count": null
  },
  {
   "metadata": {},
   "cell_type": "code",
   "source": "prepared_dataset['Price'].dtype",
   "id": "c70737a68ef48889",
   "outputs": [],
   "execution_count": null
  },
  {
   "metadata": {},
   "cell_type": "markdown",
   "source": "## Decision Tree Regressor with no preprocessing",
   "id": "31a2a993a1ea9ada"
  },
  {
   "metadata": {},
   "cell_type": "code",
   "source": [
    "from sklearn.tree import DecisionTreeRegressor\n",
    "from sklearn.model_selection import train_test_split\n",
    "from sklearn.preprocessing import OrdinalEncoder\n",
    "from sklearn.compose import ColumnTransformer\n",
    "\n",
    "Y = prepared_dataset['Price']\n",
    "X = prepared_dataset.drop(columns=['Price'])\n",
    "\n",
    "categorical_features = X.select_dtypes(include=[object])\n",
    "numerical_features = X.select_dtypes(include=[np.number])\n",
    "\n",
    "ordinal_encoder = OrdinalEncoder()\n",
    "\n",
    "column_transformer = ColumnTransformer([\n",
    "    ('categorical', ordinal_encoder, categorical_features.columns)\n",
    "], remainder='passthrough')\n",
    "\n",
    "X = column_transformer.fit_transform(X)\n",
    "\n",
    "X_train, X_test, y_train, y_test = train_test_split(X, Y, test_size=0.2, random_state=42)"
   ],
   "id": "8de705e5ced83e57",
   "outputs": [],
   "execution_count": null
  },
  {
   "metadata": {},
   "cell_type": "code",
   "source": [
    "def plot_tree_depth_scores(X_train, y_train, X_test, y_test, depth_range):\n",
    "    train_scores = []\n",
    "    test_scores = []\n",
    "\n",
    "    for i in depth_range:\n",
    "        model = DecisionTreeRegressor(max_depth=i)\n",
    "        model.fit(X_train, y_train)\n",
    "        train_scores.append(model.score(X_train, y_train))\n",
    "        test_scores.append(model.score(X_test, y_test))\n",
    "\n",
    "    plt.plot(depth_range, train_scores, label='Train')\n",
    "    plt.plot(depth_range, test_scores, label='Test')\n",
    "    plt.xlabel('Max Depth')\n",
    "    plt.ylabel('Score')\n",
    "    plt.legend()\n",
    "    plt.show()"
   ],
   "id": "79e7de17e0519ee0",
   "outputs": [],
   "execution_count": null
  },
  {
   "metadata": {},
   "cell_type": "code",
   "source": "plot_tree_depth_scores(X_train, y_train, X_test, y_test, range(1, 11))",
   "id": "6d916e038cba4c4a",
   "outputs": [],
   "execution_count": null
  },
  {
   "metadata": {},
   "cell_type": "code",
   "source": [
    "tree_model = DecisionTreeRegressor(max_depth=7)\n",
    "\n",
    "tree_model.fit(X_train, y_train)"
   ],
   "id": "b7b43c5346284b3f",
   "outputs": [],
   "execution_count": null
  },
  {
   "metadata": {},
   "cell_type": "code",
   "source": [
    "from sklearn.metrics import root_mean_squared_error\n",
    "from sklearn.metrics import mean_absolute_error\n",
    "\n",
    "y_pred = tree_model.predict(X_test)\n",
    "\n",
    "print('Root Mean Squared Error: ', root_mean_squared_error(y_test, y_pred))\n",
    "print('Mean Absolute Error: ', mean_absolute_error(y_test, y_pred))"
   ],
   "id": "578443e09e2a3226",
   "outputs": [],
   "execution_count": null
  },
  {
   "metadata": {},
   "cell_type": "code",
   "source": [
    "from sklearn.tree import plot_tree\n",
    "\n",
    "tree_fig = plt.figure(figsize=(300, 50))\n",
    "\n",
    "plot_tree(tree_model, filled=True, feature_names=prepared_dataset.columns.drop('Price'), fontsize=10)\n",
    "plt.savefig('./decision_tree_no_prep.png')\n",
    "\n",
    "plt.show()"
   ],
   "id": "df9b080048411d41",
   "outputs": [],
   "execution_count": null
  },
  {
   "metadata": {},
   "cell_type": "code",
   "source": [
    "from pandas import DataFrame\n",
    "from sklearn.inspection import permutation_importance\n",
    "\n",
    "feature_importances = DataFrame(\n",
    "    columns=['Feature', 'Importance', 'Permutation Importance'],\n",
    "    data=zip(prepared_dataset.columns.drop('Price'), tree_model.feature_importances_,\n",
    "             permutation_importance(tree_model, X_test, y_test, random_state=42, n_repeats=20).importances_mean))\n",
    "\n",
    "feature_importances.sort_values(by='Importance', ascending=False)"
   ],
   "id": "19ccbbcc364adfb3",
   "outputs": [],
   "execution_count": null
  },
  {
   "metadata": {},
   "cell_type": "code",
   "source": [
    "data = feature_importances.melt(id_vars='Feature', var_name='Importance',\n",
    "                                value_vars=['Importance', 'Permutation Importance'])\n",
    "\n",
    "plt.title('Feature Importances')\n",
    "plt.xlabel('Value')\n",
    "\n",
    "sns.barplot(x='value', data=data, hue='Importance', y='Feature', orient='h')"
   ],
   "id": "316e728ded840187",
   "outputs": [],
   "execution_count": null
  },
  {
   "metadata": {},
   "cell_type": "code",
   "source": "prepared_dataset.iloc[prepared_dataset['Price'].argmax()]",
   "id": "f812b055c8e511",
   "outputs": [],
   "execution_count": null
  },
  {
   "metadata": {},
   "cell_type": "markdown",
   "source": "WOW! A Camaro for 20 Million Leva! Well that's an outlier if I've ever seen one!",
   "id": "6df0dfe2bd5bf841"
  },
  {
   "metadata": {},
   "cell_type": "code",
   "source": [
    "prepared_dataset['Price'] = prepared_dataset['Price'].round()\n",
    "\n",
    "prepared_dataset['Price'].describe()"
   ],
   "id": "ede409a0d97276d9",
   "outputs": [],
   "execution_count": null
  },
  {
   "metadata": {},
   "cell_type": "code",
   "source": "prepared_dataset.sample(20)",
   "id": "ce28fe1020961bf1",
   "outputs": [],
   "execution_count": null
  },
  {
   "metadata": {},
   "cell_type": "code",
   "source": [
    "numerical_columns_skewness = dataset[numerical_features.columns].skew().sort_values(ascending=False)\n",
    "numerical_columns_skewness"
   ],
   "id": "5bedff3b3368ddf5",
   "outputs": [],
   "execution_count": null
  },
  {
   "metadata": {},
   "cell_type": "code",
   "source": [
    "# Initialize a figure\n",
    "plt.figure(figsize=(20, 15))\n",
    "\n",
    "# Number of rows/columns in the grid\n",
    "n_cols = 3  # Adjust based on preference\n",
    "n_rows = int(np.ceil(len(numerical_features.columns) / float(n_cols)))\n",
    "\n",
    "# Create a subplot for each numerical feature\n",
    "for i, column in enumerate(numerical_features.columns, 1):\n",
    "    plt.subplot(n_rows, n_cols, i)\n",
    "    sns.histplot(dataset[column], kde=True, stat=\"count\", linewidth=0)\n",
    "    plt.title(column)\n",
    "\n",
    "plt.tight_layout()\n",
    "plt.show()"
   ],
   "id": "ed9355f28d19fc98",
   "outputs": [],
   "execution_count": null
  },
  {
   "metadata": {},
   "cell_type": "code",
   "source": "numerical_columns_skewness",
   "id": "449fb36aa8748148",
   "outputs": [],
   "execution_count": null
  },
  {
   "metadata": {},
   "cell_type": "code",
   "source": [
    "numerical_columns_kurtosis = dataset[numerical_features.columns].kurt().sort_values(ascending=False)\n",
    "numerical_columns_kurtosis"
   ],
   "id": "369ee81b8e85dbb5",
   "outputs": [],
   "execution_count": null
  }
 ],
 "metadata": {
  "kernelspec": {
   "display_name": "Python 3",
   "language": "python",
   "name": "python3"
  },
  "language_info": {
   "codemirror_mode": {
    "name": "ipython",
    "version": 2
   },
   "file_extension": ".py",
   "mimetype": "text/x-python",
   "name": "python",
   "nbconvert_exporter": "python",
   "pygments_lexer": "ipython2",
   "version": "2.7.6"
  }
 },
 "nbformat": 4,
 "nbformat_minor": 5
}
