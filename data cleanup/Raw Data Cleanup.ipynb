{
 "cells": [
  {
   "cell_type": "code",
   "id": "initial_id",
   "metadata": {
    "collapsed": true
   },
   "source": [
    "import pandas as pd\n",
    "import numpy as np"
   ],
   "outputs": [],
   "execution_count": null
  },
  {
   "metadata": {},
   "cell_type": "code",
   "source": "data = pd.read_csv('./data/mobile.bg-offers-2024-02-17.csv')",
   "id": "63cfb5068d583c26",
   "outputs": [],
   "execution_count": null
  },
  {
   "metadata": {},
   "cell_type": "code",
   "source": "data",
   "id": "def8caadbe04e69",
   "outputs": [],
   "execution_count": null
  },
  {
   "metadata": {},
   "cell_type": "code",
   "source": [
    "# Translate column names to English for easier use\n",
    "english_columns = ['Make', 'Model', 'BodyType', 'ManufactureDate', 'FuelType', 'Transmission', 'EngineSize', 'Horsepower', 'EuroStandard', 'Mileage', 'MilesPerFullCharge (EV)', 'BatteryCapacity (EV)', 'Color', 'VIN', 'Price', 'SafetyFeatures', 'ComfortFeatures', 'OtherFeatures', 'ExteriorFeatures', 'SecurityFeatures', 'InteriorFeatures', 'SpecialisedFeatures', 'Region', 'City', 'ViewCount', 'OfferTitle']\n",
    "\n",
    "data.columns = english_columns\n",
    "data"
   ],
   "id": "548867f0872ea3f9",
   "outputs": [],
   "execution_count": null
  },
  {
   "metadata": {},
   "cell_type": "code",
   "source": "data.shape",
   "id": "457bc7ad3685c999",
   "outputs": [],
   "execution_count": null
  },
  {
   "metadata": {},
   "cell_type": "code",
   "source": "data.dtypes",
   "id": "3bee20c3eb321517",
   "outputs": [],
   "execution_count": null
  },
  {
   "metadata": {},
   "cell_type": "code",
   "source": [
    "numeric_columns = data.select_dtypes(include=[np.number]).columns\n",
    "categorical_columns = data.select_dtypes(include=[object]).columns\n",
    "\n",
    "numeric_columns, categorical_columns"
   ],
   "id": "8aad2bfc0db379fb",
   "outputs": [],
   "execution_count": null
  },
  {
   "metadata": {},
   "cell_type": "code",
   "source": [
    "# Extract month from the Year of manufacture column\n",
    "\n",
    "extracted_months = data['ManufactureDate'].str.split().str[0]\n",
    "extracted_years = data['ManufactureDate'].str.split().str[1]\n",
    "\n",
    "month_index_dict = {\n",
    "    'януари': '01',\n",
    "    'февруари': '02',\n",
    "    'март': '03',\n",
    "    'април': '04',\n",
    "    'май': '05',\n",
    "    'юни': '06',\n",
    "    'юли': '07',\n",
    "    'август': '08',\n",
    "    'септември': '09',\n",
    "    'октомври': '10',\n",
    "    'ноември': '11',\n",
    "    'декември': '12',\n",
    "}\n",
    "\n",
    "extracted_months = extracted_months.map(lambda x: month_index_dict.get(x, np.nan))\n",
    "\n",
    "data['ManufactureDate'] = extracted_months.str.cat(extracted_years, sep='/')"
   ],
   "id": "9e1425eaf7b86a95",
   "outputs": [],
   "execution_count": null
  },
  {
   "metadata": {},
   "cell_type": "code",
   "source": [
    "data['ManufactureDate'] = data['ManufactureDate'].str.replace('г.', '')\n",
    "\n",
    "data['ManufactureDate']"
   ],
   "id": "5b5fb70c4644938f",
   "outputs": [],
   "execution_count": null
  },
  {
   "metadata": {},
   "cell_type": "code",
   "source": "data['ManufactureDate'].isna().sum()",
   "id": "742d843ea8a05967",
   "outputs": [],
   "execution_count": null
  },
  {
   "metadata": {},
   "cell_type": "code",
   "source": "data.head(20)",
   "id": "789a7fa334dd763d",
   "outputs": [],
   "execution_count": null
  },
  {
   "metadata": {},
   "cell_type": "code",
   "source": "data['FuelType'].value_counts(dropna=False)",
   "id": "d5de339fa77d81b8",
   "outputs": [],
   "execution_count": null
  },
  {
   "metadata": {},
   "cell_type": "code",
   "source": "data['Transmission'].value_counts(dropna=False)",
   "id": "b2e6c80dabcb2af8",
   "outputs": [],
   "execution_count": null
  },
  {
   "metadata": {},
   "cell_type": "code",
   "source": "data['EngineSize'].sample(20)",
   "id": "bb2d159f394897eb",
   "outputs": [],
   "execution_count": null
  },
  {
   "metadata": {},
   "cell_type": "code",
   "source": [
    "# Ensure 'EngineSize' is a string, replace ' куб.см', and convert to integer\n",
    "data.loc[data['EngineSize'].notna(), 'EngineSize'] = data.loc[data['EngineSize'].notna(), 'EngineSize'].str.replace(' куб.см', '').astype('Int64')"
   ],
   "id": "572e8d55e6fb7279",
   "outputs": [],
   "execution_count": null
  },
  {
   "metadata": {},
   "cell_type": "code",
   "source": "data['EngineSize'].sample(20)",
   "id": "19cfbf8626d4786d",
   "outputs": [],
   "execution_count": null
  },
  {
   "metadata": {},
   "cell_type": "code",
   "source": "data['EngineSize'].value_counts(dropna=False)",
   "id": "f147eaea0d936ec5",
   "outputs": [],
   "execution_count": null
  },
  {
   "metadata": {},
   "cell_type": "code",
   "source": "data.head()",
   "id": "b70bfef88647926e",
   "outputs": [],
   "execution_count": null
  },
  {
   "metadata": {},
   "cell_type": "code",
   "source": "data['Horsepower'].sample(20)",
   "id": "5db1c8914d6fa21",
   "outputs": [],
   "execution_count": null
  },
  {
   "metadata": {},
   "cell_type": "code",
   "source": "data['Horsepower'].value_counts(dropna=False)",
   "id": "d93ad59c4f0bb0be",
   "outputs": [],
   "execution_count": null
  },
  {
   "metadata": {},
   "cell_type": "code",
   "source": [
    "data['Horsepower'] = data['Horsepower'].str.replace(' к.с.', '').astype('Int64')\n",
    "\n",
    "data['Horsepower'].value_counts(dropna=False)"
   ],
   "id": "8bc328d5421a9679",
   "outputs": [],
   "execution_count": null
  },
  {
   "metadata": {},
   "cell_type": "code",
   "source": "data.head()",
   "id": "33a181279b3062cf",
   "outputs": [],
   "execution_count": null
  },
  {
   "metadata": {},
   "cell_type": "code",
   "source": "data['EuroStandard'].value_counts(dropna=False)",
   "id": "2459ea7ef428fc4a",
   "outputs": [],
   "execution_count": null
  },
  {
   "metadata": {},
   "cell_type": "code",
   "source": "data['Mileage'].sample(20)",
   "id": "818dc7ce9f82901a",
   "outputs": [],
   "execution_count": null
  },
  {
   "metadata": {},
   "cell_type": "code",
   "source": "data['Mileage'].value_counts(dropna=False)",
   "id": "50fdcb131ddcbea4",
   "outputs": [],
   "execution_count": null
  },
  {
   "metadata": {},
   "cell_type": "code",
   "source": [
    "data['Mileage'] = data['Mileage'].str.replace(' км', '').astype('Int64')\n",
    "\n",
    "data['Mileage'].value_counts(dropna=False)"
   ],
   "id": "e081225fe18cefe0",
   "outputs": [],
   "execution_count": null
  },
  {
   "metadata": {},
   "cell_type": "code",
   "source": "data.head()",
   "id": "c5a0dfb77c92bb83",
   "outputs": [],
   "execution_count": null
  },
  {
   "metadata": {},
   "cell_type": "code",
   "source": [
    "numeric_columns = data.select_dtypes(include=[np.number]).columns\n",
    "\n",
    "numeric_columns"
   ],
   "id": "db68e8967232f9ff",
   "outputs": [],
   "execution_count": null
  },
  {
   "metadata": {},
   "cell_type": "code",
   "source": "data['MilesPerFullCharge (EV)'].value_counts(dropna=False)",
   "id": "f552422fb7448317",
   "outputs": [],
   "execution_count": null
  },
  {
   "metadata": {},
   "cell_type": "code",
   "source": "data[data['MilesPerFullCharge (EV)'].notna()].sample(20)",
   "id": "7c7a27ab082479c4",
   "outputs": [],
   "execution_count": null
  },
  {
   "metadata": {},
   "cell_type": "code",
   "source": [
    "data['MilesPerFullCharge (EV)'] = data['MilesPerFullCharge (EV)'].str.replace(' км', '').astype('Float64')\n",
    "\n",
    "data['MilesPerFullCharge (EV)'].value_counts(dropna=False)"
   ],
   "id": "c418aff57dc1a255",
   "outputs": [],
   "execution_count": null
  },
  {
   "metadata": {},
   "cell_type": "code",
   "source": [
    "numeric_columns = data.select_dtypes(include=[np.number]).columns\n",
    "numeric_columns"
   ],
   "id": "19683f03e077732e",
   "outputs": [],
   "execution_count": null
  },
  {
   "metadata": {},
   "cell_type": "code",
   "source": "data['BatteryCapacity (EV)'].value_counts(dropna=False)",
   "id": "8570944d0bb9955b",
   "outputs": [],
   "execution_count": null
  },
  {
   "metadata": {},
   "cell_type": "code",
   "source": "data['BatteryCapacity (EV)'] = data['BatteryCapacity (EV)'].str.replace(' kWh', '').astype('Float64')",
   "id": "cc4998e25a7f0cfc",
   "outputs": [],
   "execution_count": null
  },
  {
   "metadata": {},
   "cell_type": "code",
   "source": "data['BatteryCapacity (EV)'].value_counts(dropna=False)",
   "id": "3f01d749a1d014c2",
   "outputs": [],
   "execution_count": null
  },
  {
   "metadata": {},
   "cell_type": "code",
   "source": "data['Color'].value_counts(dropna=False)",
   "id": "fcfd964df0cb2f39",
   "outputs": [],
   "execution_count": null
  },
  {
   "metadata": {},
   "cell_type": "code",
   "source": "data['VIN'].value_counts(dropna=False)",
   "id": "627b4d6ab94c4437",
   "outputs": [],
   "execution_count": null
  },
  {
   "metadata": {},
   "cell_type": "code",
   "source": "data.head()",
   "id": "aefa5205fab8ab35",
   "outputs": [],
   "execution_count": null
  },
  {
   "metadata": {},
   "cell_type": "code",
   "source": "data['Price'].sample(20)",
   "id": "5863eee4545d6f01",
   "outputs": [],
   "execution_count": null
  },
  {
   "metadata": {},
   "cell_type": "code",
   "source": "data['Price'].value_counts()",
   "id": "914078a7f6e1d8f7",
   "outputs": [],
   "execution_count": null
  },
  {
   "metadata": {},
   "cell_type": "code",
   "source": [
    "\n",
    "price_in_eur = data['Price'].str.contains('EUR')\n",
    "valid_price_rows = ~data['Price'].str.contains('При запитване')\n",
    "\n",
    "data.loc[valid_price_rows, 'Price'] = data.loc[valid_price_rows, 'Price'].str.replace(' лв.', '').str.replace(' EUR', '').str.replace(' ', '')\n",
    "\n",
    "# Convert EUR prices to BGN\n",
    "eur_bgn_exchange_rate = 1.95583\n",
    "data.loc[price_in_eur, 'Price'] = (data.loc[price_in_eur, 'Price'].astype('float') * eur_bgn_exchange_rate).astype(object)\n",
    "\n",
    "data['Price'].sample(20)"
   ],
   "id": "78d7696392233499",
   "outputs": [],
   "execution_count": null
  },
  {
   "metadata": {},
   "cell_type": "code",
   "source": "data['Price'].value_counts(dropna=False)",
   "id": "98e59d49d611387b",
   "outputs": [],
   "execution_count": null
  },
  {
   "metadata": {},
   "cell_type": "code",
   "source": "data['Price'].sample(20)",
   "id": "697e87734fb4522d",
   "outputs": [],
   "execution_count": null
  },
  {
   "metadata": {},
   "cell_type": "code",
   "source": "data.head()",
   "id": "8186fe8a153c963d",
   "outputs": [],
   "execution_count": null
  },
  {
   "metadata": {},
   "cell_type": "code",
   "source": [
    "numeric_columns = data.select_dtypes(include=[np.number]).columns\n",
    "categorical_columns = data.select_dtypes(include=[object]).columns\n",
    "\n",
    "numeric_columns, categorical_columns"
   ],
   "id": "16866a10907e5941",
   "outputs": [],
   "execution_count": null
  },
  {
   "metadata": {},
   "cell_type": "code",
   "source": "data['Region'].value_counts(dropna=False)",
   "id": "60269a21dd3f1d2f",
   "outputs": [],
   "execution_count": null
  },
  {
   "metadata": {},
   "cell_type": "code",
   "source": "data['City'].value_counts(dropna=False)",
   "id": "627e95a361c9513c",
   "outputs": [],
   "execution_count": null
  },
  {
   "metadata": {},
   "cell_type": "code",
   "source": [
    "numeric_columns = data.select_dtypes(include=[np.number]).columns\n",
    "categorical_columns = data.select_dtypes(include=[object]).columns\n",
    "\n",
    "numeric_columns, categorical_columns"
   ],
   "id": "3f5c57779b8883bd",
   "outputs": [],
   "execution_count": null
  },
  {
   "metadata": {},
   "cell_type": "code",
   "source": "data['BodyType'].value_counts(dropna=False)",
   "id": "ab413c148fad57ef",
   "outputs": [],
   "execution_count": null
  },
  {
   "metadata": {},
   "cell_type": "code",
   "source": "data.tail()",
   "id": "2724a04c4edeb058",
   "outputs": [],
   "execution_count": null
  },
  {
   "metadata": {},
   "cell_type": "code",
   "source": [
    "# Handle duplicated rows\n",
    "\n",
    "# Exclude the columns which are not relevant for the comparison\n",
    "# Some offers are listed 2 TIMES - under grouped models (like BMW 3 Series, 5 Series, etc.) AND also under the specific model in the group (like BMW 320, 520, etc.)\n",
    "\n",
    "# Let's check by VIN number for example as it should be unique for each vehicle\n",
    "duplicate_vin_rows = data[data.duplicated(subset=['VIN'], keep=False)].dropna(subset=['VIN'])\n",
    "\n",
    "duplicate_vin_rows.sort_values(by='VIN')"
   ],
   "id": "79deac5f7334a0ff",
   "outputs": [],
   "execution_count": null
  },
  {
   "metadata": {},
   "cell_type": "code",
   "source": "duplicate_vin_rows['Make'].unique()",
   "id": "ee60d88a2e3017b3",
   "outputs": [],
   "execution_count": null
  },
  {
   "metadata": {},
   "cell_type": "code",
   "source": [
    "duplicated_columns = data.columns.difference(['ViewCount', 'OfferTitle', 'Model'])\n",
    "duplicated_columns"
   ],
   "id": "f3f8bcb73575db5e",
   "outputs": [],
   "execution_count": null
  },
  {
   "metadata": {},
   "cell_type": "code",
   "source": [
    "all_duplicates = data.duplicated(subset=duplicated_columns, keep=False)\n",
    "\n",
    "data[all_duplicates].sort_values(by='Model')"
   ],
   "id": "f05a84b8cb1f7ffa",
   "outputs": [],
   "execution_count": null
  },
  {
   "metadata": {},
   "cell_type": "code",
   "source": [
    "before_drop_rows = data.shape[0]\n",
    "print(f'Before removing duplicates: {before_drop_rows}')\n",
    "\n",
    "data = data.drop_duplicates(subset=duplicated_columns, keep='last')\n",
    "nan_rows = data.loc[data['VIN'].isna()]\n",
    "data = data.drop_duplicates(subset=['VIN'], keep='last')\n",
    "data = data.merge(nan_rows, how='outer')\n",
    "\n",
    "print(f'{before_drop_rows - data.shape[0]} duplicates removed')"
   ],
   "id": "7e0d13b6b7eb7181",
   "outputs": [],
   "execution_count": null
  },
  {
   "metadata": {},
   "cell_type": "code",
   "source": "data[data.duplicated(subset=duplicated_columns, keep=False)], data[data.duplicated(subset='VIN', keep=False)]",
   "id": "a930b439d09540af",
   "outputs": [],
   "execution_count": null
  },
  {
   "metadata": {},
   "cell_type": "code",
   "source": "data[data.duplicated()]",
   "id": "a41fa30e0ff156b8",
   "outputs": [],
   "execution_count": null
  },
  {
   "metadata": {},
   "cell_type": "code",
   "source": [
    "print(f'Final shape: {data.shape}')\n",
    "print(f'Final columns: {data.columns}')"
   ],
   "id": "acc1dcfc73e83797",
   "outputs": [],
   "execution_count": null
  },
  {
   "metadata": {},
   "cell_type": "code",
   "source": "data.columns",
   "id": "db8fd0ee0ec17eb1",
   "outputs": [],
   "execution_count": null
  },
  {
   "metadata": {},
   "cell_type": "code",
   "source": [
    "print(f'Final dtypes:')\n",
    "data.dtypes"
   ],
   "id": "8d828d8a873c3ed7",
   "outputs": [],
   "execution_count": null
  },
  {
   "metadata": {},
   "cell_type": "code",
   "source": "data.to_csv('./data/bg-car-offers.csv', index=False)",
   "id": "a0182ebc84316909",
   "outputs": [],
   "execution_count": null
  }
 ],
 "metadata": {
  "kernelspec": {
   "display_name": "Python 3",
   "language": "python",
   "name": "python3"
  },
  "language_info": {
   "codemirror_mode": {
    "name": "ipython",
    "version": 2
   },
   "file_extension": ".py",
   "mimetype": "text/x-python",
   "name": "python",
   "nbconvert_exporter": "python",
   "pygments_lexer": "ipython2",
   "version": "2.7.6"
  }
 },
 "nbformat": 4,
 "nbformat_minor": 5
}
