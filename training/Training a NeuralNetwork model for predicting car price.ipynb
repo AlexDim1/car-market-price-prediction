{
 "cells": [
  {
   "cell_type": "code",
   "id": "initial_id",
   "metadata": {
    "collapsed": true
   },
   "source": [
    "import matplotlib.pyplot as plt\n",
    "import numpy as np\n",
    "import pandas as pd\n",
    "import torch"
   ],
   "outputs": [],
   "execution_count": null
  },
  {
   "metadata": {},
   "cell_type": "code",
   "source": [
    "if torch.cuda.is_available():\n",
    "    device = torch.device('cuda')\n",
    "    print(f'Using GPU: {torch.cuda.get_device_name()}')\n",
    "else:\n",
    "    device = torch.device('cpu')\n",
    "    print('Using CPU')"
   ],
   "id": "dcab56227874e6f3",
   "outputs": [],
   "execution_count": null
  },
  {
   "metadata": {},
   "cell_type": "code",
   "source": [
    "pd.set_option('display.float_format', '{:.2f}'.format)\n",
    "pd.set_option('display.max_columns', 200)\n",
    "pd.set_option('display.max_rows', 100000)"
   ],
   "id": "9133d3e76ad7c176",
   "outputs": [],
   "execution_count": null
  },
  {
   "metadata": {},
   "cell_type": "markdown",
   "source": "## Зареждане на данните",
   "id": "841086b5c5fd054a"
  },
  {
   "metadata": {},
   "cell_type": "code",
   "source": "dataset = pd.read_csv('../data/prepared-car-offers.csv')",
   "id": "73303e2a4838ed88",
   "outputs": [],
   "execution_count": null
  },
  {
   "metadata": {},
   "cell_type": "code",
   "source": "dataset.sample(20)",
   "id": "fda6c90bc12e5288",
   "outputs": [],
   "execution_count": null
  },
  {
   "metadata": {},
   "cell_type": "code",
   "source": "dataset = dataset.drop(columns='Region')",
   "id": "f9cab68e50eb8b32",
   "outputs": [],
   "execution_count": null
  },
  {
   "metadata": {},
   "cell_type": "code",
   "source": [
    "from sklearn.compose import ColumnTransformer, make_column_selector\n",
    "from sklearn.pipeline import Pipeline\n",
    "from sklearn.impute import SimpleImputer\n",
    "from sklearn.preprocessing import OneHotEncoder, MaxAbsScaler, TargetEncoder\n",
    "from sklearn.model_selection import train_test_split"
   ],
   "id": "f8643ee37e055aa7",
   "outputs": [],
   "execution_count": null
  },
  {
   "metadata": {},
   "cell_type": "code",
   "source": [
    "max_abs_scaling_num_preprocessor = Pipeline([\n",
    "    ('imputer', SimpleImputer(strategy='constant', fill_value=0)),\n",
    "    ('scaler', MaxAbsScaler())\n",
    "])\n",
    "\n",
    "ohe_cat_preprocessor = Pipeline([\n",
    "    ('imputer', SimpleImputer(strategy='constant', fill_value='Unknown')),\n",
    "    ('encoder', OneHotEncoder(handle_unknown='ignore'))\n",
    "])\n",
    "\n",
    "columns_for_target_encoding = dataset[dataset.select_dtypes(include=object).columns].nunique()[dataset.nunique() > 6].index\n",
    "target_ohe_enc_cat_preprocessor = ColumnTransformer([\n",
    "    ('target_encoding', TargetEncoder(target_type='continuous', smooth=0.2), columns_for_target_encoding),\n",
    "    ('one_hot_encoding', ohe_cat_preprocessor, make_column_selector(dtype_include=object))\n",
    "], remainder='passthrough')\n",
    "\n",
    "default_preprocessor = ColumnTransformer([\n",
    "    ('categorical', target_ohe_enc_cat_preprocessor, make_column_selector(dtype_include=object)),\n",
    "    ('numerical', max_abs_scaling_num_preprocessor, make_column_selector(dtype_include=np.number)),\n",
    "], remainder='passthrough')"
   ],
   "id": "921ee9ad52738b85",
   "outputs": [],
   "execution_count": null
  },
  {
   "metadata": {},
   "cell_type": "code",
   "source": [
    "y = dataset['Price']\n",
    "X = dataset.drop(columns='Price')\n",
    "\n",
    "X = default_preprocessor.fit_transform(X, y)\n",
    "\n",
    "n_features = X.shape[1]\n",
    "n_features"
   ],
   "id": "fe9ec7de79cad2c4",
   "outputs": [],
   "execution_count": null
  },
  {
   "metadata": {},
   "cell_type": "code",
   "source": [
    "from torch import nn, optim\n",
    "import copy"
   ],
   "id": "86eca6a382c72469",
   "outputs": [],
   "execution_count": null
  },
  {
   "metadata": {},
   "cell_type": "code",
   "source": [
    "class CarPriceModel(nn.Module):\n",
    "    \n",
    "    def __init__(self, n_features, n_hidden=256):\n",
    "        super(CarPriceModel, self).__init__()\n",
    "        self.fc1 = nn.Linear(n_features, n_hidden)\n",
    "        self.relu1 = nn.ReLU()\n",
    "        self.fc2 = nn.Linear(n_hidden, n_hidden)\n",
    "        self.relu2 = nn.ReLU()\n",
    "        self.fc3 = nn.Linear(n_hidden, 1)\n",
    "        \n",
    "    def forward(self, x):\n",
    "        x = self.fc1(x)\n",
    "        x = self.relu1(x)\n",
    "        x = self.fc2(x)\n",
    "        x = self.relu2(x)\n",
    "        x = self.fc3(x)\n",
    "        return x"
   ],
   "id": "99aef358b037271",
   "outputs": [],
   "execution_count": null
  },
  {
   "metadata": {},
   "cell_type": "code",
   "source": [
    "model = CarPriceModel(n_features)\n",
    "model.to(device)\n",
    "\n",
    "loss_fn = nn.MSELoss()\n",
    "optimizer = optim.Adam(model.parameters(), lr=0.001)"
   ],
   "id": "ea703fb61ae61f72",
   "outputs": [],
   "execution_count": null
  },
  {
   "metadata": {},
   "cell_type": "code",
   "source": [
    "X_train, X_test, y_train, y_test = train_test_split(X, y, test_size=0.2, random_state=42)\n",
    "\n",
    "X_train = torch.tensor(X_train.todense(), dtype=torch.float32).to(device)\n",
    "X_test = torch.tensor(X_test.todense(), dtype=torch.float32).to(device)\n",
    "y_train = torch.Tensor(y_train.to_numpy(dtype=np.float32)).reshape(-1, 1).to(device)\n",
    "y_test = torch.Tensor(y_test.to_numpy(dtype=np.float32)).reshape(-1, 1).to(device)\n",
    "\n",
    "n_epochs = 50\n",
    "batch_size = 1000\n",
    "batches_per_epoch = len(X_train) // batch_size\n",
    "batch_start = torch.arange(0, len(X_train), batch_size)"
   ],
   "id": "98e4f0ebd2229095",
   "outputs": [],
   "execution_count": null
  },
  {
   "metadata": {},
   "cell_type": "code",
   "source": [
    "best_mse = np.inf\n",
    "best_weights = None\n",
    "history = []\n",
    "\n",
    "for epoch in range(n_epochs):\n",
    "    model.train()\n",
    "    for i in range(batches_per_epoch):\n",
    "        start = i * batch_size\n",
    "        \n",
    "        # take a batch\n",
    "        X_batch = X_train[start:start+batch_size]\n",
    "        y_batch = y_train[start:start+batch_size]\n",
    "        \n",
    "        # forward pass\n",
    "        y_pred = model(X_batch)\n",
    "        loss = loss_fn(y_pred, y_batch)\n",
    "        \n",
    "        # backward pass\n",
    "        optimizer.zero_grad()\n",
    "        loss.backward()\n",
    "        \n",
    "        # update weights\n",
    "        optimizer.step()\n",
    "            \n",
    "    # evaluate accuracy at end of each epoch\n",
    "    model.eval()\n",
    "    y_pred = model(X_test)\n",
    "    mse = loss_fn(y_pred, y_test)\n",
    "    mse = float(mse)\n",
    "    history.append(mse)\n",
    "    if mse < best_mse:\n",
    "        best_mse = mse\n",
    "        best_weights = copy.deepcopy(model.state_dict())\n",
    "\n",
    "# restore model and return best accuracy\n",
    "model.load_state_dict(best_weights)\n",
    "print(\"MSE: %.2f\" % best_mse)\n",
    "print(\"RMSE: %.2f\" % np.sqrt(best_mse))\n",
    "plt.plot(history)\n",
    "plt.show()"
   ],
   "id": "ab1a31ffc645a7bd",
   "outputs": [],
   "execution_count": null
  }
 ],
 "metadata": {
  "kernelspec": {
   "display_name": "Python 3",
   "language": "python",
   "name": "python3"
  },
  "language_info": {
   "codemirror_mode": {
    "name": "ipython",
    "version": 2
   },
   "file_extension": ".py",
   "mimetype": "text/x-python",
   "name": "python",
   "nbconvert_exporter": "python",
   "pygments_lexer": "ipython2",
   "version": "2.7.6"
  }
 },
 "nbformat": 4,
 "nbformat_minor": 5
}
