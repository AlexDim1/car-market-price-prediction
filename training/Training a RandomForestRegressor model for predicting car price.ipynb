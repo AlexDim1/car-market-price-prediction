{
 "cells": [
  {
   "cell_type": "code",
   "id": "a8b45e9ab24cce2a",
   "metadata": {
    "collapsed": true
   },
   "source": [
    "import matplotlib.pyplot as plt\n",
    "import numpy as np\n",
    "import pandas as pd\n",
    "import seaborn as sns"
   ],
   "outputs": [],
   "execution_count": null
  },
  {
   "metadata": {},
   "cell_type": "code",
   "source": [
    "pd.set_option('display.float_format', '{:.2f}'.format)\n",
    "pd.set_option('display.max_columns', 200)\n",
    "pd.set_option('display.max_rows', 100000)"
   ],
   "id": "initial_id",
   "outputs": [],
   "execution_count": null
  },
  {
   "metadata": {},
   "cell_type": "markdown",
   "source": "# Зареждане на данните",
   "id": "8a0e6e97f359c018"
  },
  {
   "metadata": {},
   "cell_type": "code",
   "source": "dataset = pd.read_csv('../data/prepared-car-offers.csv')",
   "id": "9f7b8d3030451ac5",
   "outputs": [],
   "execution_count": null
  },
  {
   "metadata": {},
   "cell_type": "code",
   "source": "dataset.sample(20)",
   "id": "83e0869c99a70849",
   "outputs": [],
   "execution_count": null
  },
  {
   "metadata": {},
   "cell_type": "code",
   "source": "dataset.dtypes",
   "id": "18d8de54ca5f50ee",
   "outputs": [],
   "execution_count": null
  },
  {
   "metadata": {},
   "cell_type": "code",
   "source": "dataset = dataset.drop(columns='Region')",
   "id": "4bd29f6afa60ab73",
   "outputs": [],
   "execution_count": null
  },
  {
   "metadata": {},
   "cell_type": "code",
   "source": [
    "from sklearn.compose import ColumnTransformer, make_column_selector\n",
    "from sklearn.pipeline import Pipeline\n",
    "from sklearn.impute import SimpleImputer\n",
    "from sklearn.preprocessing import OneHotEncoder, MaxAbsScaler, TargetEncoder\n",
    "from sklearn.ensemble import RandomForestRegressor\n",
    "from sklearn.model_selection import train_test_split\n",
    "from sklearn.metrics import root_mean_squared_error, mean_absolute_error\n",
    "from sklearn.metrics import PredictionErrorDisplay"
   ],
   "id": "23fccde61f472db4",
   "outputs": [],
   "execution_count": null
  },
  {
   "metadata": {},
   "cell_type": "code",
   "source": [
    "max_abs_scaling_num_preprocessor = Pipeline([\n",
    "    ('imputer', SimpleImputer(strategy='constant', fill_value=0)),\n",
    "    ('scaler', MaxAbsScaler())\n",
    "])\n",
    "\n",
    "target_enc_preprocessor = Pipeline([\n",
    "    ('target_encoder', TargetEncoder(target_type='continuous', smooth=0.2))\n",
    "])\n",
    "\n",
    "ohe_cat_preprocessor = Pipeline([\n",
    "    ('imputer', SimpleImputer(strategy='constant', fill_value='Unknown')),\n",
    "    ('encoder', OneHotEncoder(handle_unknown='ignore'))\n",
    "])\n",
    "\n",
    "columns_for_target_encoding = dataset[dataset.select_dtypes(include=object).columns].nunique()[dataset.nunique() > 6].index\n",
    "target_ohe_enc_cat_preprocessor = ColumnTransformer([\n",
    "    ('target_encoding', target_enc_preprocessor, columns_for_target_encoding),\n",
    "    ('one_hot_encoding', ohe_cat_preprocessor, make_column_selector(dtype_include=object))\n",
    "], remainder='passthrough')\n",
    "\n",
    "default_preprocessor = ColumnTransformer([\n",
    "    ('categorical', target_ohe_enc_cat_preprocessor, make_column_selector(dtype_include=object)),\n",
    "    ('numerical', max_abs_scaling_num_preprocessor, make_column_selector(dtype_include=np.number)),\n",
    "], remainder='passthrough')\n",
    "\n",
    "random_forest_reg_pipeline = Pipeline([\n",
    "    ('preprocessor', default_preprocessor),\n",
    "    ('model', RandomForestRegressor(n_estimators=100, random_state=42, n_jobs=-1))\n",
    "])"
   ],
   "id": "5c2a9044fb78f903",
   "outputs": [],
   "execution_count": null
  },
  {
   "metadata": {},
   "cell_type": "code",
   "source": [
    "y = dataset['Price']\n",
    "X = dataset.drop(columns='Price')\n",
    "\n",
    "X_train, X_test, y_train, y_test = train_test_split(X, y, test_size=0.2, random_state=42)\n",
    "\n",
    "random_forest_reg_pipeline.fit(X_train, y_train)\n",
    "y_pred = random_forest_reg_pipeline.predict(X_test)\n",
    "\n",
    "print('Root Mean Squared Error: ', root_mean_squared_error(y_test, y_pred))\n",
    "print('Mean Absolute Error: ', mean_absolute_error(y_test, y_pred))"
   ],
   "id": "7cf29c9461382482",
   "outputs": [],
   "execution_count": null
  },
  {
   "metadata": {},
   "cell_type": "markdown",
   "source": "# Редуциране на пространството на характеристиките",
   "id": "50868d1300d22172"
  },
  {
   "metadata": {},
   "cell_type": "markdown",
   "source": "## Премахване на колинеарни характеристики",
   "id": "40e80e6e39921a9"
  },
  {
   "metadata": {},
   "cell_type": "code",
   "source": [
    "corr_matrix = dataset.select_dtypes(include=np.number).corr()\n",
    "\n",
    "plt.figure(figsize=(20, 20))\n",
    "sns.heatmap(corr_matrix, cmap='coolwarm')"
   ],
   "id": "886b42ae988ff6dd",
   "outputs": [],
   "execution_count": null
  },
  {
   "metadata": {},
   "cell_type": "code",
   "source": [
    "excluded_columns = ['Extras_TV', 'Extras_Tiptronic', 'Extras_USB', 'Extras_IN\\\\AUX изводи', 'Extras_Климатик']\n",
    "\n",
    "no_colinearity_df = dataset.copy()\n",
    "no_colinearity_df = no_colinearity_df.loc[:, no_colinearity_df.columns.difference(excluded_columns)]\n",
    "\n",
    "y = no_colinearity_df['Price']\n",
    "X = no_colinearity_df.drop(columns=['Price'])\n",
    "\n",
    "X_train, X_test, y_train, y_test = train_test_split(X, y, test_size=0.2, random_state=42)\n",
    "\n",
    "random_forest_reg_pipeline.fit(X_train, y_train)\n",
    "y_pred = random_forest_reg_pipeline.predict(X_test)\n",
    "\n",
    "print('Средноквадратична грешка (RMSE): ', root_mean_squared_error(y_test, y_pred))\n",
    "print('Средна абсолютна грешка (MAE): ', mean_absolute_error(y_test, y_pred))"
   ],
   "id": "1fa092b3b55cac94",
   "outputs": [],
   "execution_count": null
  },
  {
   "metadata": {},
   "cell_type": "markdown",
   "source": "## Премахване на колона: `Make`, `Model`, `EuroStandard`, `Color`",
   "id": "befc5df426f81876"
  },
  {
   "metadata": {},
   "cell_type": "code",
   "source": [
    "excluded_columns = ['Make', 'Model', 'EuroStandard', 'Color']\n",
    "\n",
    "for column in excluded_columns:\n",
    "    df_excluded_column = dataset.drop(columns=column)\n",
    "\n",
    "    columns_for_target_encoding = \\\n",
    "    df_excluded_column[df_excluded_column.select_dtypes(include=object).columns].nunique()[\n",
    "        df_excluded_column.nunique() > 6].index\n",
    "\n",
    "    cat_preproccessor = ColumnTransformer([\n",
    "        ('target_encoding', target_enc_preprocessor, columns_for_target_encoding),\n",
    "        ('one_hot_encoding', ohe_cat_preprocessor, make_column_selector(dtype_include=object))\n",
    "    ], remainder='passthrough')\n",
    "\n",
    "    preprocessor = ColumnTransformer([\n",
    "        ('categorical', cat_preproccessor, make_column_selector(dtype_include=object)),\n",
    "        ('numerical', max_abs_scaling_num_preprocessor, make_column_selector(dtype_include=np.number)),\n",
    "    ], remainder='passthrough')\n",
    "\n",
    "    rf_pipeline = Pipeline([\n",
    "        ('preprocessor', preprocessor),\n",
    "        ('model', RandomForestRegressor(random_state=42, n_jobs=-1))\n",
    "    ])\n",
    "\n",
    "    y = df_excluded_column['Price']\n",
    "    X = df_excluded_column.drop(columns=['Price'])\n",
    "\n",
    "    X_train, X_test, y_train, y_test = train_test_split(X, y, test_size=0.2, random_state=42)\n",
    "\n",
    "    rf_pipeline.fit(X_train, y_train)\n",
    "    y_pred = rf_pipeline.predict(X_test)\n",
    "\n",
    "    print('-' * 50)\n",
    "    print('Резултати с премахната колона: ' + column)\n",
    "    print(f'Средноквадратична грешка (RMSE) без {column}: ', root_mean_squared_error(y_test, y_pred))\n",
    "    print(f'Средна абсолютна грешка (MAE) без {column}: ', mean_absolute_error(y_test, y_pred))"
   ],
   "id": "ee62a6d5e5bf5f93",
   "outputs": [],
   "execution_count": null
  },
  {
   "metadata": {},
   "cell_type": "markdown",
   "source": "## Премахване на характеристики с ниска важност",
   "id": "e7245b94f05fdc41"
  },
  {
   "metadata": {},
   "cell_type": "code",
   "source": [
    "from sklearn.feature_selection import SelectFromModel\n",
    "\n",
    "most_important_features_pipeline = Pipeline([\n",
    "    ('preprocessor', default_preprocessor),\n",
    "    ('feature_selection', SelectFromModel(RandomForestRegressor(random_state=42, n_jobs=-1), threshold=0.01)),\n",
    "    ('model', RandomForestRegressor(random_state=42, n_jobs=-1))\n",
    "])\n",
    "\n",
    "y = dataset['Price']\n",
    "X = dataset.drop(columns=['Price'])\n",
    "\n",
    "X_train, X_test, y_train, y_test = train_test_split(X, y, test_size=0.2, random_state=42)\n",
    "\n",
    "most_important_features_pipeline.fit(X_train, y_train)\n",
    "y_pred = most_important_features_pipeline.predict(X_test)\n",
    "\n",
    "print('Средноквадратична грешка (RMSE): ', root_mean_squared_error(y_test, y_pred))\n",
    "print('Средна абсолютна грешка (MAE): ', mean_absolute_error(y_test, y_pred))"
   ],
   "id": "f70e9551b9368fed",
   "outputs": [],
   "execution_count": null
  },
  {
   "metadata": {},
   "cell_type": "markdown",
   "source": "## Премахване на характеристики с ниска взаимна информация",
   "id": "ab38c397ac1230cc"
  },
  {
   "metadata": {},
   "cell_type": "code",
   "source": [
    "from sklearn.feature_selection import mutual_info_regression\n",
    "\n",
    "y = dataset['Price']\n",
    "X = dataset.drop(columns=['Price'])\n",
    "\n",
    "numerical_features = X.select_dtypes(include=np.number)\n",
    "X = X[numerical_features.columns]\n",
    "X = X.fillna(0)\n",
    "\n",
    "X = default_preprocessor.fit_transform(X)\n",
    "\n",
    "mutual_info = mutual_info_regression(X, y)\n",
    "\n",
    "mutual_info_df = pd.DataFrame(data=zip(numerical_features.columns, mutual_info),\n",
    "                              columns=['Feature', 'Mutual Information'])"
   ],
   "id": "d3a413e8d9bde741",
   "outputs": [],
   "execution_count": null
  },
  {
   "metadata": {},
   "cell_type": "code",
   "source": "mutual_info_df.sort_values(by='Mutual Information', ascending=False)",
   "id": "5efeb9187825692b",
   "outputs": [],
   "execution_count": null
  },
  {
   "metadata": {},
   "cell_type": "code",
   "source": [
    "selected_features = mutual_info_df[mutual_info_df['Mutual Information'] >= 0.0001]['Feature'].values\n",
    "\n",
    "selected_features"
   ],
   "id": "dbb706f45595897e",
   "outputs": [],
   "execution_count": null
  },
  {
   "metadata": {},
   "cell_type": "code",
   "source": [
    "selected_num_features = dataset[selected_features]\n",
    "cat_features = dataset.select_dtypes(include=object)\n",
    "\n",
    "y = dataset['Price']\n",
    "X = pd.concat([selected_num_features, cat_features], axis=1)\n",
    "\n",
    "X_train, X_test, y_train, y_test = train_test_split(X, y, test_size=0.2, random_state=42)\n",
    "\n",
    "random_forest_reg_pipeline.fit(X_train, y_train)\n",
    "y_pred = random_forest_reg_pipeline.predict(X_test)\n",
    "\n",
    "print('Средноквадратична грешка (RMSE): ', root_mean_squared_error(y_test, y_pred))\n",
    "print('Средна абсолютна грешка (MAE): ', mean_absolute_error(y_test, y_pred))"
   ],
   "id": "500087898ba6c52a",
   "outputs": [],
   "execution_count": null
  },
  {
   "metadata": {},
   "cell_type": "markdown",
   "source": "## Премахване на характеристики с ниска корелация с целевата променлива",
   "id": "8f2aabb6a09cb17c"
  },
  {
   "metadata": {},
   "cell_type": "code",
   "source": [
    "correlation_with_price = dataset[dataset.drop(columns='Price').select_dtypes(include=np.number).columns].corrwith(dataset['Price'])\n",
    "\n",
    "correlation_with_price_df = pd.DataFrame(np.abs(correlation_with_price), columns=['Correlation with Price'])\n",
    "correlation_with_price_df.sort_values(by='Correlation with Price', ascending=False)"
   ],
   "id": "d69ff2d43f4bedcd",
   "outputs": [],
   "execution_count": null
  },
  {
   "metadata": {},
   "cell_type": "code",
   "source": [
    "correlated_features = correlation_with_price_df[correlation_with_price_df['Correlation with Price'] >= 0.5].index\n",
    "cat_features = dataset.select_dtypes(include=object).columns\n",
    "selected_features = correlated_features.union(cat_features)\n",
    "selected_features"
   ],
   "id": "a5afaacb835ab1a1",
   "outputs": [],
   "execution_count": null
  },
  {
   "metadata": {},
   "cell_type": "code",
   "source": [
    "y = dataset['Price']\n",
    "X = dataset[selected_features]\n",
    "\n",
    "X_train, X_test, y_train, y_test = train_test_split(X, y, test_size=0.2, random_state=42)\n",
    "\n",
    "random_forest_reg_pipeline.fit(X_train, y_train)\n",
    "y_pred = random_forest_reg_pipeline.predict(X_test)\n",
    "\n",
    "print('Средноквадратична грешка (RMSE): ', root_mean_squared_error(y_test, y_pred))\n",
    "print('Средна абсолютна грешка (MAE): ', mean_absolute_error(y_test, y_pred))"
   ],
   "id": "701a8764152e8894",
   "outputs": [],
   "execution_count": null
  },
  {
   "metadata": {},
   "cell_type": "code",
   "source": [
    "dataset = dataset[selected_features.append(pd.Index(['Price']))]\n",
    "dataset"
   ],
   "id": "ad463eb5476159e2",
   "outputs": [],
   "execution_count": null
  },
  {
   "metadata": {},
   "cell_type": "markdown",
   "source": "# Откриване на най-добрите хиперпараметри за модела",
   "id": "c314fbfd18629e"
  },
  {
   "metadata": {},
   "cell_type": "code",
   "source": [
    "from sklearn.model_selection import GridSearchCV\n",
    "\n",
    "import os\n",
    "os.environ['JOBLIB_TIMEOUT'] = '300'\n",
    "\n",
    "y = dataset['Price']\n",
    "X = dataset.drop(columns='Price')\n",
    "\n",
    "param_grid = {\n",
    "    'model__n_estimators': [50, 100, 150, 200],\n",
    "    'model__max_depth': [None, 10, 20, 30, 50],\n",
    "    'model__min_samples_split': [2, 5, 10, 25],\n",
    "    'model__min_samples_leaf': [None, 1, 2, 4, 10, 20, 50],\n",
    "    'model__max_leaf_nodes': [None, 10, 20, 50, 100]\n",
    "}\n",
    "\n",
    "grid_search = GridSearchCV(random_forest_reg_pipeline, param_grid, cv=3, n_jobs=-1)\n",
    "grid_search.fit(X, y)\n",
    "\n",
    "print('Best parameters: ', grid_search.best_params_)\n",
    "print('Best score: ', grid_search.best_score_)\n",
    "\n",
    "best_random_forest_reg_pipeline = grid_search.best_estimator_"
   ],
   "id": "3c4f5ab31d372379",
   "outputs": [],
   "execution_count": null
  },
  {
   "metadata": {},
   "cell_type": "code",
   "source": [
    "y = dataset['Price']\n",
    "X = dataset.drop(columns='Price')\n",
    "\n",
    "X_train, X_test, y_train, y_test = train_test_split(X, y, test_size=0.2, random_state=42)\n",
    "\n",
    "best_random_forest_reg_pipeline.fit(X_train, y_train)\n",
    "y_pred = best_random_forest_reg_pipeline.predict(X_test)\n",
    "\n",
    "print('Root Mean Squared Error: ', root_mean_squared_error(y_test, y_pred))\n",
    "print('Mean Absolute Error: ', mean_absolute_error(y_test, y_pred))"
   ],
   "id": "cdd1203b2eaba97c",
   "outputs": [],
   "execution_count": null
  },
  {
   "metadata": {},
   "cell_type": "markdown",
   "source": "# Анализиране на грешките",
   "id": "da9dd531e41d9bf8"
  },
  {
   "metadata": {},
   "cell_type": "code",
   "source": [
    "y = dataset['Price']\n",
    "X = dataset.drop(columns=['Price'])\n",
    "\n",
    "X_train, X_test, y_train, y_test = train_test_split(X, y, test_size=0.2, random_state=42)\n",
    "\n",
    "best_random_forest_reg_pipeline.fit(X_train, y_train)\n",
    "y_pred = best_random_forest_reg_pipeline.predict(X_test)\n",
    "\n",
    "print('Средноквадратична грешка (RMSE): ', root_mean_squared_error(y_test, y_pred))\n",
    "print('Средна абсолютна грешка (MAE): ', mean_absolute_error(y_test, y_pred))\n",
    "\n",
    "PredictionErrorDisplay.from_predictions(y_test, y_pred, kind='residual_vs_predicted',\n",
    "                                        scatter_kwargs={'alpha': 0.5, 'marker': 'x'}, subsample=None)"
   ],
   "id": "fe074358aa5a3355",
   "outputs": [],
   "execution_count": null
  },
  {
   "metadata": {},
   "cell_type": "code",
   "source": [
    "errors = pd.Series(np.abs(y_test - y_pred))\n",
    "\n",
    "errors_df = X_test.copy()\n",
    "errors_df['Error'] = errors\n",
    "errors_df = errors_df.sort_values(by='Error', ascending=False)\n",
    "errors_df[errors_df['Error'] > 0].describe(include='all')"
   ],
   "id": "3172228461bb336f",
   "outputs": [],
   "execution_count": null
  },
  {
   "metadata": {},
   "cell_type": "code",
   "source": [
    "plt.figure(figsize=(20, 20))\n",
    "\n",
    "# Group by 'Make' and calculate the mean error\n",
    "mean_error_by_make = errors_df.groupby('Make')['Error'].mean().reset_index()\n",
    "\n",
    "# Plot the mean error by make\n",
    "plt.figure(figsize=(10, 15))\n",
    "ax = sns.barplot(x='Error', y='Make', data=mean_error_by_make.sort_values(by='Error', ascending=False), orient='h')\n",
    "sns.jointplot(x='Error', y=errors_df.groupby('Make').count(), hue='Make', data=mean_error_by_make)\n",
    "ax.axvline(errors_df['Error'].mean(), color='red', linestyle='--')\n",
    "plt.title('Средна абсолютна грешка по марка')\n",
    "plt.ylabel('Марка')\n",
    "plt.xlabel('Грешка')\n",
    "plt.show()"
   ],
   "id": "2e424e9c620db0c3",
   "outputs": [],
   "execution_count": null
  },
  {
   "metadata": {},
   "cell_type": "markdown",
   "source": "# Eкспортиране на модела",
   "id": "66f1194aa512fd98"
  },
  {
   "metadata": {},
   "cell_type": "code",
   "source": [
    "import pickle\n",
    "\n",
    "with open('../models/random_forest_car_price_model.pkl', 'wb+') as model_file:\n",
    "    pickle.dump(best_random_forest_reg_pipeline, model_file)"
   ],
   "id": "beb0095bc420a7d3",
   "outputs": [],
   "execution_count": null
  }
 ],
 "metadata": {
  "kernelspec": {
   "display_name": "Python 3",
   "language": "python",
   "name": "python3"
  },
  "language_info": {
   "codemirror_mode": {
    "name": "ipython",
    "version": 2
   },
   "file_extension": ".py",
   "mimetype": "text/x-python",
   "name": "python",
   "nbconvert_exporter": "python",
   "pygments_lexer": "ipython2",
   "version": "2.7.6"
  }
 },
 "nbformat": 4,
 "nbformat_minor": 5
}
