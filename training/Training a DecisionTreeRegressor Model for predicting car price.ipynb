{
 "cells": [
  {
   "metadata": {},
   "cell_type": "code",
   "source": [
    "import matplotlib.pyplot as plt\n",
    "import numpy as np\n",
    "import pandas as pd\n",
    "import seaborn as sns"
   ],
   "id": "initial_id",
   "outputs": [],
   "execution_count": null
  },
  {
   "metadata": {},
   "cell_type": "code",
   "source": [
    "pd.set_option('display.float_format', '{:.2f}'.format)\n",
    "pd.set_option('display.max_columns', 200)\n",
    "pd.set_option('display.max_rows', 100000)"
   ],
   "id": "2f5bf5036a8c06b1",
   "outputs": [],
   "execution_count": null
  },
  {
   "metadata": {},
   "cell_type": "markdown",
   "source": "# Зареждане на данните",
   "id": "4f21321c3eaa6f68"
  },
  {
   "metadata": {},
   "cell_type": "code",
   "source": "dataset = pd.read_csv('../data/prepared-car-offers.csv')",
   "id": "48f5fd7fc4c2ba87",
   "outputs": [],
   "execution_count": null
  },
  {
   "metadata": {},
   "cell_type": "code",
   "source": "dataset.sample(15)",
   "id": "24c480bc60033b01",
   "outputs": [],
   "execution_count": null
  },
  {
   "metadata": {},
   "cell_type": "code",
   "source": "dataset.info()",
   "id": "14509ba44125b6cd",
   "outputs": [],
   "execution_count": null
  },
  {
   "metadata": {},
   "cell_type": "code",
   "source": "dataset.shape",
   "id": "3a0f509e7b24c7a2",
   "outputs": [],
   "execution_count": null
  },
  {
   "metadata": {},
   "cell_type": "code",
   "source": "dataset.describe(include='all')",
   "id": "2f08ed9bdc6f1fae",
   "outputs": [],
   "execution_count": null
  },
  {
   "metadata": {},
   "cell_type": "markdown",
   "source": "# Кодиране на данните",
   "id": "278cfbc19320dc9a"
  },
  {
   "metadata": {},
   "cell_type": "markdown",
   "source": [
    "## Нормализиране на числовите стойности\n",
    "\n",
    "Не е достатъчно само да премахнем аутлайърите в числовите колони. Трябва също така да ги нормализираме, за да с еднакъв мащаб и да гарантираме, че няма колоните, които сa с по-голям числов обхват, да натежат повече при обучението на модела."
   ],
   "id": "daa4e32a2da6e239"
  },
  {
   "metadata": {},
   "cell_type": "markdown",
   "source": "### Standard Scaling",
   "id": "a54a4a549dbede87"
  },
  {
   "metadata": {},
   "cell_type": "code",
   "source": [
    "from sklearn.tree import DecisionTreeRegressor\n",
    "from sklearn.model_selection import train_test_split\n",
    "from sklearn.preprocessing import StandardScaler, OneHotEncoder\n",
    "from sklearn.compose import ColumnTransformer, make_column_selector\n",
    "from sklearn.pipeline import Pipeline\n",
    "from sklearn.impute import SimpleImputer\n",
    "from sklearn.metrics import root_mean_squared_error, mean_absolute_error\n",
    "\n",
    "y = dataset['Price']\n",
    "X = dataset.drop(columns=['Price'])\n",
    "\n",
    "standard_scaling_num_preprocessor = Pipeline([\n",
    "    ('imputer', SimpleImputer(strategy='constant', fill_value=0)),\n",
    "    ('scaler', StandardScaler())\n",
    "])\n",
    "\n",
    "ohe_cat_preprocessor = Pipeline([\n",
    "    ('imputer', SimpleImputer(strategy='constant', fill_value='Unknown')),\n",
    "    ('encoder', OneHotEncoder(handle_unknown='ignore'))\n",
    "])\n",
    "\n",
    "preprocessor = ColumnTransformer([\n",
    "    ('numerical', standard_scaling_num_preprocessor, make_column_selector(dtype_include=np.number)),\n",
    "    ('categorical', ohe_cat_preprocessor, make_column_selector(dtype_include=object))\n",
    "], remainder='passthrough')\n",
    "\n",
    "default_dt_pipeline = Pipeline([\n",
    "    ('preprocessor', preprocessor),\n",
    "    ('model', DecisionTreeRegressor(random_state=42))\n",
    "])\n",
    "\n",
    "X_train, X_test, y_train, y_test = train_test_split(X, y, test_size=0.2, random_state=42)\n",
    "\n",
    "default_dt_pipeline.fit(X_train, y_train)\n",
    "y_pred = default_dt_pipeline.predict(X_test)\n",
    "\n",
    "print('Средноквадратична грешка (RMSE): ', root_mean_squared_error(y_test, y_pred))\n",
    "print('Средна абсолютна грешка (MAE): ', mean_absolute_error(y_test, y_pred))"
   ],
   "id": "a77efdc220af5a70",
   "outputs": [],
   "execution_count": null
  },
  {
   "metadata": {},
   "cell_type": "markdown",
   "source": "### MaxAbs Scaling",
   "id": "84e9336e4b35cee7"
  },
  {
   "metadata": {},
   "cell_type": "code",
   "source": [
    "from sklearn.preprocessing import MaxAbsScaler\n",
    "\n",
    "maxabs_scaling_num_preprocessor = Pipeline([\n",
    "    ('imputer', SimpleImputer(strategy='constant', fill_value=0)),\n",
    "    ('scaler', MaxAbsScaler())\n",
    "])\n",
    "\n",
    "maxabs_preprocessor = ColumnTransformer([\n",
    "    ('numerical', maxabs_scaling_num_preprocessor, make_column_selector(dtype_include=np.number)),\n",
    "    ('categorical', ohe_cat_preprocessor, make_column_selector(dtype_include=object))\n",
    "], remainder='passthrough')\n",
    "\n",
    "maxabs_scaling_dt_pipeline = Pipeline([\n",
    "    ('preprocessor', maxabs_preprocessor),\n",
    "    ('model', DecisionTreeRegressor(random_state=42))\n",
    "])\n",
    "\n",
    "y = dataset['Price']\n",
    "X = dataset.drop(columns=['Price'])\n",
    "\n",
    "X_train, X_test, y_train, y_test = train_test_split(X, y, test_size=0.2, random_state=42)\n",
    "\n",
    "maxabs_scaling_dt_pipeline.fit(X_train, y_train)\n",
    "y_pred = maxabs_scaling_dt_pipeline.predict(X_test)\n",
    "\n",
    "print('Средноквадратична грешка (RMSE): ', root_mean_squared_error(y_test, y_pred))\n",
    "print('Средна абсолютна грешка (MAE): ', mean_absolute_error(y_test, y_pred))"
   ],
   "id": "d412587c00ecefc9",
   "outputs": [],
   "execution_count": null
  },
  {
   "metadata": {},
   "cell_type": "markdown",
   "source": "### MinMax Scaling",
   "id": "2a9016bb965836c6"
  },
  {
   "metadata": {},
   "cell_type": "code",
   "source": [
    "from sklearn.preprocessing import MinMaxScaler\n",
    "\n",
    "minmax_scaling_num_preprocessor = Pipeline([\n",
    "    ('imputer', SimpleImputer(strategy='constant', fill_value=0)),\n",
    "    ('scaler', MinMaxScaler())\n",
    "])\n",
    "\n",
    "minmax_preprocessor = ColumnTransformer([\n",
    "    ('numerical', minmax_scaling_num_preprocessor, make_column_selector(dtype_include=np.number)),\n",
    "    ('categorical', ohe_cat_preprocessor, make_column_selector(dtype_include=object))\n",
    "], remainder='passthrough')\n",
    "\n",
    "minmax_scaling_dt_pipeline = Pipeline([\n",
    "    ('preprocessor', minmax_preprocessor),\n",
    "    ('model', DecisionTreeRegressor(random_state=42))\n",
    "])\n",
    "\n",
    "y = dataset['Price']\n",
    "X = dataset.drop(columns=['Price'])\n",
    "\n",
    "X_train, X_test, y_train, y_test = train_test_split(X, y, test_size=0.2, random_state=42)\n",
    "\n",
    "minmax_scaling_dt_pipeline.fit(X_train, y_train)\n",
    "y_pred = minmax_scaling_dt_pipeline.predict(X_test)\n",
    "\n",
    "print('Средноквадратична грешка (RMSE): ', root_mean_squared_error(y_test, y_pred))\n",
    "print('Средна абсолютна грешка (MAE): ', mean_absolute_error(y_test, y_pred))"
   ],
   "id": "6e3e11705db25d6b",
   "outputs": [],
   "execution_count": null
  },
  {
   "metadata": {},
   "cell_type": "markdown",
   "source": "Ще използваме `MaxAbsScaler`, тъй като той дава най-добри резултати.",
   "id": "907d31d4347f32d5"
  },
  {
   "metadata": {},
   "cell_type": "code",
   "source": [
    "default_num_preprocessor = maxabs_scaling_num_preprocessor\n",
    "default_preprocessor = maxabs_preprocessor\n",
    "default_dt_pipeline = maxabs_scaling_dt_pipeline"
   ],
   "id": "b7b43c5346284b3f",
   "outputs": [],
   "execution_count": null
  },
  {
   "metadata": {},
   "cell_type": "code",
   "source": [
    "y = dataset['Price']\n",
    "X = dataset.drop(columns=['Price'])\n",
    "\n",
    "X_train, X_test, y_train, y_test = train_test_split(X, y, test_size=0.2, random_state=42)\n",
    "\n",
    "default_dt_pipeline.fit(X_train, y_train)\n",
    "y_pred = default_dt_pipeline.predict(X_test)\n",
    "\n",
    "print('Средноквадратична грешка (RMSE): ', root_mean_squared_error(y_test, y_pred))\n",
    "print('Средна абсолютна грешка (MAE): ', mean_absolute_error(y_test, y_pred))"
   ],
   "id": "bda2256ce5303309",
   "outputs": [],
   "execution_count": null
  },
  {
   "metadata": {},
   "cell_type": "markdown",
   "source": [
    "## Кодиране на категорийните стойности\n",
    "\n",
    "Категорийните стойности трябва да бъдат преобразувани в числа, за да могат да бъдат използвани от модела. Ще разгледаме няколко опции за кодиране на категорийни стойности. "
   ],
   "id": "2449735759928627"
  },
  {
   "metadata": {},
   "cell_type": "code",
   "source": [
    "sns.barplot(x=dataset.select_dtypes(include=[object]).nunique(),\n",
    "            y=dataset.select_dtypes(include=[object]).columns)\n",
    "plt.title('Брой уникални стойности по колона (кардиналност)')\n",
    "plt.xlabel('Брой уникални стойности')\n",
    "plt.ylabel('Колона')"
   ],
   "id": "fe8976bafc0cac42",
   "outputs": [],
   "execution_count": null
  },
  {
   "metadata": {},
   "cell_type": "markdown",
   "source": "### One-hot encoding на всички категорийни колони",
   "id": "f8865aee8aac76fc"
  },
  {
   "metadata": {},
   "cell_type": "code",
   "source": [
    "y = dataset['Price']\n",
    "X = dataset.drop(columns=['Price'])\n",
    "\n",
    "X_train, X_test, y_train, y_test = train_test_split(X, y, test_size=0.2, random_state=42)\n",
    "\n",
    "default_dt_pipeline.fit(X_train, y_train)\n",
    "y_pred = default_dt_pipeline.predict(X_test)\n",
    "\n",
    "print('Средноквадратична грешка (RMSE): ', root_mean_squared_error(y_test, y_pred))\n",
    "print('Средна абсолютна грешка (MAE): ', mean_absolute_error(y_test, y_pred))"
   ],
   "id": "481a40f9029725fd",
   "outputs": [],
   "execution_count": null
  },
  {
   "metadata": {},
   "cell_type": "markdown",
   "source": "Нека разгледаме кои са колоните с най-голямо значение според моделa:",
   "id": "9d1edd075635fb7d"
  },
  {
   "metadata": {},
   "cell_type": "code",
   "source": [
    "importances = default_dt_pipeline.named_steps['model'].feature_importances_\n",
    "\n",
    "ohe_feature_names = default_dt_pipeline.named_steps['preprocessor'].transformers_[1][1].named_steps[\n",
    "    'encoder'].get_feature_names_out(input_features=dataset.select_dtypes(include=[object]).columns)\n",
    "\n",
    "numerical_feature_names = dataset.select_dtypes(include=np.number).columns\n",
    "all_feature_names = np.concatenate([numerical_feature_names, ohe_feature_names])\n",
    "\n",
    "feature_importances_df = pd.DataFrame(data=zip(all_feature_names, importances), columns=['Feature', 'Importance'])\n",
    "feature_importances_df[feature_importances_df['Importance'] > 0].sort_values(by='Importance', ascending=False).head(30)"
   ],
   "id": "19ccbbcc364adfb3",
   "outputs": [],
   "execution_count": null
  },
  {
   "metadata": {},
   "cell_type": "code",
   "source": [
    "null_counts_per_column = dataset.isnull().sum().sort_values(ascending=False).head(20)\n",
    "\n",
    "sns.barplot(x=null_counts_per_column, y=null_counts_per_column.index)\n",
    "plt.title('Липсващи стойности по колона')\n",
    "plt.xlabel('Брой липсващи стойности')\n",
    "plt.ylabel('Колона')"
   ],
   "id": "a270cb57a0c0531b",
   "outputs": [],
   "execution_count": null
  },
  {
   "metadata": {},
   "cell_type": "code",
   "source": "dataset.shape",
   "id": "e1a181078c04cfdc",
   "outputs": [],
   "execution_count": null
  },
  {
   "metadata": {},
   "cell_type": "markdown",
   "source": "### Target encoding за колоните с голяма кардиналност",
   "id": "4fbd7ea737ed2f0c"
  },
  {
   "metadata": {},
   "cell_type": "code",
   "source": [
    "from sklearn.preprocessing import TargetEncoder\n",
    "\n",
    "columns_for_target_encoding = dataset[dataset.select_dtypes(include=object).columns].nunique()[\n",
    "    dataset.nunique() > 6].index\n",
    "columns_for_target_encoding"
   ],
   "id": "7020679ba544cc46",
   "outputs": [],
   "execution_count": null
  },
  {
   "metadata": {},
   "cell_type": "code",
   "source": [
    "from sklearn.metrics import PredictionErrorDisplay\n",
    "\n",
    "target_encoding_preprocessor = Pipeline([\n",
    "    ('target_encoder', TargetEncoder(target_type='continuous', smooth=0.2)),\n",
    "])\n",
    "\n",
    "target_enc_cat_preprocessor = ColumnTransformer([\n",
    "    ('target_encoding', target_encoding_preprocessor, columns_for_target_encoding),\n",
    "    ('one_hot_encoding', ohe_cat_preprocessor, make_column_selector(dtype_include=object))\n",
    "], remainder='passthrough')\n",
    "\n",
    "target_oh_encoding_preprocessor = ColumnTransformer([\n",
    "    ('categorical', target_enc_cat_preprocessor, make_column_selector(dtype_include=object)),\n",
    "    ('numerical', default_num_preprocessor, make_column_selector(dtype_include=np.number)),\n",
    "], remainder='passthrough')\n",
    "\n",
    "target_enc_dt_pipeline = Pipeline([\n",
    "    ('preprocessor', target_oh_encoding_preprocessor),\n",
    "    ('model', DecisionTreeRegressor(random_state=42))\n",
    "])\n",
    "\n",
    "y = dataset['Price']\n",
    "X = dataset.drop(columns=['Price'])\n",
    "\n",
    "X_train, X_test, y_train, y_test = train_test_split(X, y, test_size=0.2, random_state=42)\n",
    "\n",
    "target_enc_dt_pipeline.fit(X_train, y_train)\n",
    "y_pred = target_enc_dt_pipeline.predict(X_test)\n",
    "\n",
    "print('Средноквадратична грешка (RMSE): ', root_mean_squared_error(y_test, y_pred))\n",
    "print('Средна абсолютна грешка (MAE): ', mean_absolute_error(y_test, y_pred))"
   ],
   "id": "17d0a32b71644a4a",
   "outputs": [],
   "execution_count": null
  },
  {
   "metadata": {},
   "cell_type": "code",
   "source": [
    "target_encoder = target_enc_dt_pipeline.named_steps['preprocessor'].transformers_[0][1]['target_encoding'][\n",
    "    'target_encoder']"
   ],
   "id": "67492977966f8bda",
   "outputs": [],
   "execution_count": null
  },
  {
   "metadata": {},
   "cell_type": "code",
   "source": [
    "category_means = zip(target_encoder.categories_, target_encoder.encodings_)\n",
    "\n",
    "category_means_df = pd.DataFrame(columns=['Category', 'Mean'])\n",
    "\n",
    "for category, mean in category_means:\n",
    "    for i in range(len(category)):\n",
    "        category_means_df.loc[len(category_means_df.index)] = [category[i], mean[i]]\n",
    "\n",
    "category_means_df"
   ],
   "id": "a2364901427cdcf8",
   "outputs": [],
   "execution_count": null
  },
  {
   "metadata": {},
   "cell_type": "code",
   "source": [
    "PredictionErrorDisplay.from_predictions(y_test, y_pred, kind='residual_vs_predicted',\n",
    "                                        scatter_kwargs={'alpha': 0.5, 'marker': 'x'}, subsample=None)"
   ],
   "id": "7fb84650ba5fa0a9",
   "outputs": [],
   "execution_count": null
  },
  {
   "metadata": {},
   "cell_type": "markdown",
   "source": "Да видим отново важността на колоните, след като сме приложили Target Encoding:",
   "id": "2ce44b4e3fa9d182"
  },
  {
   "metadata": {},
   "cell_type": "code",
   "source": [
    "importances = target_enc_dt_pipeline.named_steps['model'].feature_importances_\n",
    "\n",
    "ohe_feature_names = target_enc_dt_pipeline.named_steps['preprocessor'].transformers_[0][1]['one_hot_encoding'][\n",
    "    'encoder'].get_feature_names_out(\n",
    "    input_features=dataset.select_dtypes(include=object).columns)\n",
    "\n",
    "numerical_feature_names = dataset.drop(columns='Price').select_dtypes(include=np.number).columns\n",
    "all_feature_names = np.concatenate([numerical_feature_names, ohe_feature_names])\n",
    "\n",
    "feature_importances_df = pd.DataFrame(data=zip(all_feature_names, importances), columns=['Feature', 'Importance'])\n",
    "feature_importances_df[feature_importances_df['Importance'] > 0].sort_values(by='Importance', ascending=False)"
   ],
   "id": "4756e447c4045aa",
   "outputs": [],
   "execution_count": null
  },
  {
   "metadata": {},
   "cell_type": "code",
   "source": [
    "default_cat_preprocessor = target_enc_cat_preprocessor\n",
    "default_preprocessor = target_oh_encoding_preprocessor\n",
    "default_dt_pipeline = target_enc_dt_pipeline"
   ],
   "id": "d3a7b7deb026c589",
   "outputs": [],
   "execution_count": null
  },
  {
   "metadata": {},
   "cell_type": "markdown",
   "source": [
    "# Редуциране на пространството на характеристиките\n",
    "\n",
    "## Премахване на колинеарни характеристики\n",
    "\n",
    "Колинеарността е проблем, който възниква, когато две или повече характеристики са силно корелирани помежду си. Това може да доведе до преоценяване на важността на характеристиките. Нека проверим за колинеарност в нашия набор от данни."
   ],
   "id": "98bdf1f350f79bbb"
  },
  {
   "metadata": {},
   "cell_type": "code",
   "source": [
    "corr_matrix = dataset.select_dtypes(include=np.number).corr()\n",
    "\n",
    "plt.figure(figsize=(20, 20))\n",
    "sns.heatmap(corr_matrix, cmap='coolwarm')"
   ],
   "id": "566097ae23a4b2cc",
   "outputs": [],
   "execution_count": null
  },
  {
   "metadata": {},
   "cell_type": "code",
   "source": [
    "excluded_columns = ['Extras_TV', 'Extras_Tiptronic', 'Extras_USB', 'Extras_IN\\\\AUX изводи', 'Extras_Климатик']\n",
    "\n",
    "no_colinearity_df = dataset.copy()\n",
    "no_colinearity_df = no_colinearity_df.loc[:, no_colinearity_df.columns.difference(excluded_columns)]\n",
    "\n",
    "y = no_colinearity_df['Price']\n",
    "X = no_colinearity_df.drop(columns=['Price'])\n",
    "\n",
    "X_train, X_test, y_train, y_test = train_test_split(X, y, test_size=0.2, random_state=42)\n",
    "\n",
    "default_dt_pipeline.fit(X_train, y_train)\n",
    "y_pred = default_dt_pipeline.predict(X_test)\n",
    "\n",
    "print('Средноквадратична грешка (RMSE): ', root_mean_squared_error(y_test, y_pred))\n",
    "print('Средна абсолютна грешка (MAE): ', mean_absolute_error(y_test, y_pred))"
   ],
   "id": "dd693fc84304530d",
   "outputs": [],
   "execution_count": null
  },
  {
   "metadata": {},
   "cell_type": "code",
   "source": "dataset = no_colinearity_df",
   "id": "13ef382aeb79676b",
   "outputs": [],
   "execution_count": null
  },
  {
   "metadata": {},
   "cell_type": "markdown",
   "source": "## Премахване на колона: `Make`, `Model`, `EuroStandard`, `Color`, `Region`",
   "id": "9c8f1d15204c1f78"
  },
  {
   "metadata": {},
   "cell_type": "code",
   "source": [
    "excluded_columns = ['Make', 'Model', 'EuroStandard', 'Color', 'Region']\n",
    "\n",
    "for column in excluded_columns:\n",
    "    df_excluded_column = dataset.drop(columns=column)\n",
    "\n",
    "    columns_for_target_encoding = \\\n",
    "    df_excluded_column[df_excluded_column.select_dtypes(include=object).columns].nunique()[\n",
    "        df_excluded_column.nunique() > 6].index\n",
    "\n",
    "    cat_preproccessor = ColumnTransformer([\n",
    "        ('target_encoding', target_encoding_preprocessor, columns_for_target_encoding),\n",
    "        ('one_hot_encoding', ohe_cat_preprocessor, make_column_selector(dtype_include=object))\n",
    "    ], remainder='passthrough')\n",
    "\n",
    "    preprocessor = ColumnTransformer([\n",
    "        ('categorical', cat_preproccessor, make_column_selector(dtype_include=object)),\n",
    "        ('numerical', default_num_preprocessor, make_column_selector(dtype_include=np.number)),\n",
    "    ], remainder='passthrough')\n",
    "\n",
    "    dt_pipeline = Pipeline([\n",
    "        ('preprocessor', preprocessor),\n",
    "        ('model', DecisionTreeRegressor(random_state=42))\n",
    "    ])\n",
    "\n",
    "    y = df_excluded_column['Price']\n",
    "    X = df_excluded_column.drop(columns=['Price'])\n",
    "\n",
    "    X_train, X_test, y_train, y_test = train_test_split(X, y, test_size=0.2, random_state=42)\n",
    "\n",
    "    dt_pipeline.fit(X_train, y_train)\n",
    "    y_pred = dt_pipeline.predict(X_test)\n",
    "\n",
    "    print('-' * 50)\n",
    "    print('Резултати с премахната колона: ' + column)\n",
    "    print(f'Средноквадратична грешка (RMSE) без {column}: ', root_mean_squared_error(y_test, y_pred))\n",
    "    print(f'Средна абсолютна грешка (MAE) без {column}: ', mean_absolute_error(y_test, y_pred))"
   ],
   "id": "8c6811d7a7933487",
   "outputs": [],
   "execution_count": null
  },
  {
   "metadata": {},
   "cell_type": "code",
   "source": [
    "dataset = dataset.drop(columns='Region')\n",
    "\n",
    "columns_for_target_encoding = dataset[dataset.select_dtypes(include=object).columns].nunique()[dataset.nunique() > 6].index\n",
    "default_cat_preprocessor = ColumnTransformer([\n",
    "    ('target_encoding', target_encoding_preprocessor, columns_for_target_encoding),\n",
    "    ('one_hot_encoding', ohe_cat_preprocessor, make_column_selector(dtype_include=object))\n",
    "], remainder='passthrough')\n",
    "\n",
    "default_preprocessor = ColumnTransformer([\n",
    "    ('categorical', default_cat_preprocessor, make_column_selector(dtype_include=object)),\n",
    "    ('numerical', default_num_preprocessor, make_column_selector(dtype_include=np.number)),\n",
    "], remainder='passthrough')\n",
    "\n",
    "default_dt_pipeline = Pipeline([\n",
    "    ('preprocessor', default_preprocessor),\n",
    "    ('model', DecisionTreeRegressor(random_state=42))\n",
    "])"
   ],
   "id": "a0a1035f1b5f940",
   "outputs": [],
   "execution_count": null
  },
  {
   "metadata": {},
   "cell_type": "markdown",
   "source": "## Премахване на характеристики с ниска важност",
   "id": "e3846df3ada40ad5"
  },
  {
   "metadata": {},
   "cell_type": "code",
   "source": [
    "from sklearn.feature_selection import SelectFromModel\n",
    "\n",
    "most_important_features_pipeline = Pipeline([\n",
    "    ('preprocessor', default_preprocessor),\n",
    "    ('feature_selection', SelectFromModel(DecisionTreeRegressor(random_state=42), threshold=0.01)),\n",
    "    ('model', DecisionTreeRegressor(random_state=42))\n",
    "])\n",
    "\n",
    "y = dataset['Price']\n",
    "X = dataset.drop(columns=['Price'])\n",
    "\n",
    "X_train, X_test, y_train, y_test = train_test_split(X, y, test_size=0.2, random_state=42)\n",
    "\n",
    "most_important_features_pipeline.fit(X_train, y_train)\n",
    "y_pred = most_important_features_pipeline.predict(X_test)\n",
    "\n",
    "print('Средноквадратична грешка (RMSE): ', root_mean_squared_error(y_test, y_pred))\n",
    "print('Средна абсолютна грешка (MAE): ', mean_absolute_error(y_test, y_pred))\n",
    "\n",
    "## 6500, 16100"
   ],
   "id": "55ec3ab16412df18",
   "outputs": [],
   "execution_count": null
  },
  {
   "metadata": {},
   "cell_type": "markdown",
   "source": "## Премахване на характеристики с ниска взаимна информация",
   "id": "bdab0a29d8f0b89b"
  },
  {
   "metadata": {},
   "cell_type": "code",
   "source": [
    "from sklearn.feature_selection import mutual_info_regression\n",
    "\n",
    "y = dataset['Price']\n",
    "X = dataset.drop(columns=['Price'])\n",
    "\n",
    "numerical_features = X.select_dtypes(include=np.number)\n",
    "X = X[numerical_features.columns]\n",
    "X = X.fillna(0)\n",
    "\n",
    "X = default_preprocessor.fit_transform(X)\n",
    "\n",
    "mutual_info = mutual_info_regression(X, y)\n",
    "\n",
    "mutual_info_df = pd.DataFrame(data=zip(numerical_features.columns, mutual_info),\n",
    "                              columns=['Feature', 'Mutual Information'])"
   ],
   "id": "e6843a29a9a3b2eb",
   "outputs": [],
   "execution_count": null
  },
  {
   "metadata": {},
   "cell_type": "code",
   "source": "mutual_info_df.sort_values(by='Mutual Information', ascending=False)",
   "id": "a5163e332aa071",
   "outputs": [],
   "execution_count": null
  },
  {
   "metadata": {},
   "cell_type": "code",
   "source": [
    "selected_features = mutual_info_df[mutual_info_df['Mutual Information'] >= 0.0001]['Feature'].values\n",
    "\n",
    "selected_features"
   ],
   "id": "219f9bfae03a10a2",
   "outputs": [],
   "execution_count": null
  },
  {
   "metadata": {},
   "cell_type": "code",
   "source": [
    "selected_num_features = dataset[selected_features]\n",
    "cat_features = dataset.select_dtypes(include=object)\n",
    "\n",
    "y = dataset['Price']\n",
    "X = pd.concat([selected_num_features, cat_features], axis=1)\n",
    "\n",
    "X_train, X_test, y_train, y_test = train_test_split(X, y, test_size=0.2, random_state=42)\n",
    "\n",
    "default_dt_pipeline.fit(X_train, y_train)\n",
    "y_pred = default_dt_pipeline.predict(X_test)\n",
    "\n",
    "print('Средноквадратична грешка (RMSE): ', root_mean_squared_error(y_test, y_pred))\n",
    "print('Средна абсолютна грешка (MAE): ', mean_absolute_error(y_test, y_pred))"
   ],
   "id": "e612e2679dde958",
   "outputs": [],
   "execution_count": null
  },
  {
   "metadata": {},
   "cell_type": "markdown",
   "source": "## Премахване на характеристики с ниска корелация с целевата променлива",
   "id": "31d67d9c688d8b06"
  },
  {
   "metadata": {},
   "cell_type": "code",
   "source": [
    "correlation_with_price = dataset[dataset.drop(columns='Price').select_dtypes(include=np.number).columns].corrwith(dataset['Price'])\n",
    "\n",
    "correlation_with_price_df = pd.DataFrame(np.abs(correlation_with_price), columns=['Correlation with Price'])\n",
    "correlation_with_price_df.sort_values(by='Correlation with Price', ascending=False)"
   ],
   "id": "9222676fcb41fd51",
   "outputs": [],
   "execution_count": null
  },
  {
   "metadata": {},
   "cell_type": "code",
   "source": [
    "correlated_features = correlation_with_price_df[correlation_with_price_df['Correlation with Price'] >= 0.5].index\n",
    "cat_features = dataset.select_dtypes(include=object).columns\n",
    "selected_features = correlated_features.union(cat_features)\n",
    "selected_features"
   ],
   "id": "4a65ee33ccd4f008",
   "outputs": [],
   "execution_count": null
  },
  {
   "metadata": {},
   "cell_type": "code",
   "source": [
    "y = dataset['Price']\n",
    "X = dataset[selected_features]\n",
    "\n",
    "X_train, X_test, y_train, y_test = train_test_split(X, y, test_size=0.2, random_state=42)\n",
    "\n",
    "default_dt_pipeline.fit(X_train, y_train)\n",
    "y_pred = default_dt_pipeline.predict(X_test)\n",
    "\n",
    "print('Средноквадратична грешка (RMSE): ', root_mean_squared_error(y_test, y_pred))\n",
    "print('Средна абсолютна грешка (MAE): ', mean_absolute_error(y_test, y_pred))"
   ],
   "id": "193dfee0022ba3b5",
   "outputs": [],
   "execution_count": null
  },
  {
   "metadata": {},
   "cell_type": "code",
   "source": [
    "dataset = dataset[selected_features.append(pd.Index(['Price']))]\n",
    "dataset"
   ],
   "id": "3253301b667848ab",
   "outputs": [],
   "execution_count": null
  },
  {
   "metadata": {},
   "cell_type": "markdown",
   "source": "# Откриване на най-добрите хиперпараметри за модела",
   "id": "89142b4c8048cdb6"
  },
  {
   "metadata": {},
   "cell_type": "markdown",
   "source": [
    "**ВНИМАНИЕ: Следващата клетка използва всички процесори и може да доведе до забавяне на машината докато се изпълнява!**\n",
    "**Изпълнението може да отнеме над 30 мин!**"
   ],
   "id": "b23dc70bfa919a9a"
  },
  {
   "metadata": {},
   "cell_type": "code",
   "source": [
    "from sklearn.model_selection import GridSearchCV\n",
    "\n",
    "import os\n",
    "os.environ['JOBLIB_TIMEOUT'] = '300'\n",
    "\n",
    "y = dataset['Price']\n",
    "X = dataset.drop(columns=['Price'])\n",
    "\n",
    "param_grid = {\n",
    "    'preprocessor__categorical__target_encoding__target_encoder__smooth': ['auto', 0.1, 0.2, 0.5],\n",
    "    'model__max_depth': [None, 10, 15, 20, 30, 50, 100],\n",
    "    'model__min_samples_split': [2, 5, 10, 25],\n",
    "    'model__min_samples_leaf': [1, 2, 4, 10, 20, 50],\n",
    "    'model__max_leaf_nodes': [None, 10, 20, 50, 100]\n",
    "}\n",
    "\n",
    "grid_search = GridSearchCV(default_dt_pipeline, param_grid, cv=5, n_jobs=-1)\n",
    "grid_search.fit(X, y)\n",
    "\n",
    "print('Best parameters: ', grid_search.best_params_)\n",
    "print('Best score: ', grid_search.best_score_)\n",
    "\n",
    "best_dt_pipeline = grid_search.best_estimator_"
   ],
   "id": "9657c53c5978cafe",
   "outputs": [],
   "execution_count": null
  },
  {
   "metadata": {},
   "cell_type": "code",
   "source": [
    "y = dataset['Price']\n",
    "X = dataset.drop(columns=['Price'])\n",
    "\n",
    "X_train, X_test, y_train, y_test = train_test_split(X, y, test_size=0.2, random_state=42)\n",
    "\n",
    "best_dt_pipeline.fit(X_train, y_train)\n",
    "y_pred = best_dt_pipeline.predict(X_test)\n",
    "\n",
    "print('Средноквадратична грешка (RMSE): ', root_mean_squared_error(y_test, y_pred))\n",
    "print('Средна абсолютна грешка (MAE): ', mean_absolute_error(y_test, y_pred))"
   ],
   "id": "5230320f5a4bcd83",
   "outputs": [],
   "execution_count": null
  },
  {
   "metadata": {},
   "cell_type": "markdown",
   "source": "# Анализиране на грешките",
   "id": "46c2dae4d47d38e0"
  },
  {
   "metadata": {},
   "cell_type": "code",
   "source": [
    "y = dataset['Price']\n",
    "X = dataset.drop(columns=['Price'])\n",
    "\n",
    "X_train, X_test, y_train, y_test = train_test_split(X, y, test_size=0.2, random_state=42)\n",
    "\n",
    "best_dt_pipeline.fit(X_train, y_train)\n",
    "y_pred = best_dt_pipeline.predict(X_test)\n",
    "\n",
    "print('Средноквадратична грешка (RMSE): ', root_mean_squared_error(y_test, y_pred))\n",
    "print('Средна абсолютна грешка (MAE): ', mean_absolute_error(y_test, y_pred))\n",
    "\n",
    "PredictionErrorDisplay.from_predictions(y_test, y_pred, kind='residual_vs_predicted',\n",
    "                                        scatter_kwargs={'alpha': 0.5, 'marker': 'x'}, subsample=None)"
   ],
   "id": "f8d648dc6e3acabc",
   "outputs": [],
   "execution_count": null
  },
  {
   "metadata": {},
   "cell_type": "code",
   "source": [
    "errors = pd.Series(np.abs(y_test - y_pred))\n",
    "\n",
    "errors_df = X_test.copy()\n",
    "errors_df['Error'] = errors\n",
    "errors_df = errors_df.sort_values(by='Error', ascending=False)\n",
    "errors_df[errors_df['Error'] > 0].describe(include='all')"
   ],
   "id": "bfdb406f80d762fd",
   "outputs": [],
   "execution_count": null
  },
  {
   "metadata": {},
   "cell_type": "code",
   "source": [
    "errors_df = errors_df[errors_df['Error'] > 0]\n",
    "\n",
    "# Group by 'Make' and calculate the mean error\n",
    "mean_error_by_make = errors_df.groupby('Make')['Error'].mean().reset_index()\n",
    "\n",
    "plt.figure(figsize=(10, 15))\n",
    "ax = sns.barplot(x='Error', y='Make', data=mean_error_by_make.sort_values(by='Error', ascending=False), orient='h')\n",
    "ax.axvline(errors_df['Error'].mean(), color='red', linestyle='--')\n",
    "plt.title('Средна абсолютна грешка по марка')\n",
    "plt.ylabel('Марка')\n",
    "plt.xlabel('Грешка')\n",
    "plt.show()"
   ],
   "id": "b1d79da12b9c7d79",
   "outputs": [],
   "execution_count": null
  },
  {
   "metadata": {},
   "cell_type": "code",
   "source": [
    "count_by_make = errors_df['Make'].value_counts()\n",
    "make_count_error_df = pd.DataFrame(count_by_make).join(mean_error_by_make.set_index('Make'))\n",
    "make_count_error_df.sort_values(by='Error', ascending=False)"
   ],
   "id": "80fb62f6dfff3a0",
   "outputs": [],
   "execution_count": null
  },
  {
   "metadata": {},
   "cell_type": "markdown",
   "source": "# Експортиране на модела",
   "id": "79a6b7f20c89fa72"
  },
  {
   "metadata": {},
   "cell_type": "code",
   "source": [
    "import pickle\n",
    "\n",
    "with open('../models/d_tree_car_price_model.pkl', 'wb+') as model_file:\n",
    "    pickle.dump(best_dt_pipeline, model_file)"
   ],
   "id": "60dfbe03e3189fcd",
   "outputs": [],
   "execution_count": null
  }
 ],
 "metadata": {
  "kernelspec": {
   "display_name": "Python 3",
   "language": "python",
   "name": "python3"
  },
  "language_info": {
   "codemirror_mode": {
    "name": "ipython",
    "version": 2
   },
   "file_extension": ".py",
   "mimetype": "text/x-python",
   "name": "python",
   "nbconvert_exporter": "python",
   "pygments_lexer": "ipython2",
   "version": "2.7.6"
  }
 },
 "nbformat": 4,
 "nbformat_minor": 5
}
