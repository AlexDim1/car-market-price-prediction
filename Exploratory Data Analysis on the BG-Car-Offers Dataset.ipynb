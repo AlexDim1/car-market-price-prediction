{
 "cells": [
  {
   "cell_type": "code",
   "id": "initial_id",
   "metadata": {
    "collapsed": true
   },
   "source": [
    "import pandas as pd\n",
    "import numpy as np\n",
    "import matplotlib.pyplot as plt\n",
    "import seaborn as sns"
   ],
   "outputs": [],
   "execution_count": null
  },
  {
   "metadata": {},
   "cell_type": "code",
   "source": "pd.set_option('display.float_format', '{:.2f}'.format)",
   "id": "c54f1fd370dd9758",
   "outputs": [],
   "execution_count": null
  },
  {
   "metadata": {},
   "cell_type": "markdown",
   "source": "## Зареждане и поглед върху данните, с които ще работим",
   "id": "e4c15e27ba753f59"
  },
  {
   "metadata": {},
   "cell_type": "code",
   "source": [
    "dataset = pd.read_csv('./data/bg-car-offers.csv')\n",
    "\n",
    "dataset.shape"
   ],
   "id": "8a649efd448be818",
   "outputs": [],
   "execution_count": null
  },
  {
   "metadata": {},
   "cell_type": "markdown",
   "source": "Файлът с обяви за продажба на автомобили съдържа 99 693 записа (обяви) и 26 колони с данни за всяка обява. Нека разгледаме няколко записа от него:",
   "id": "9ef8a932b98bc12b"
  },
  {
   "metadata": {},
   "cell_type": "code",
   "source": "dataset.sample(10)",
   "id": "6383243f90bd3100",
   "outputs": [],
   "execution_count": null
  },
  {
   "metadata": {},
   "cell_type": "markdown",
   "source": [
    "Виждаме, че файлът съдържа информация, която бихме очаквали да намерим, когато търсим да закупим автомобил: марката, модела, датата на производство, типа на двигателя и трансмисията, цвета, наличните екстри и оборудване, и, разбира се, цената на автомобила. Разполагаме също и с данни, които не описват предлагания автомобил, а са данни за самата обява като заглавие и брой преглеждания на обявата. Тези данни може да са полезни за анализа, но няма да ги включваме в модела за предсказване на цената на автомобила, тъй като искаме да предскажем цената на автомобила единствено на базата на неговите характеристики.\n",
    "\n",
    "Поради факта, че тези данни са попълвани от потребители в интернет, на доста места се наблюдават непопълнени данни, които ще трябва да обработим преди да започнем да обучаваме какъвто и да е модел за предсказване на цената на автомобила.\n",
    "\n",
    "Нека разгледаме типа на данните във файла:"
   ],
   "id": "9ef497334131c311"
  },
  {
   "metadata": {},
   "cell_type": "code",
   "source": "dataset.dtypes",
   "id": "25439e93c628a596",
   "outputs": [],
   "execution_count": null
  },
  {
   "metadata": {},
   "cell_type": "markdown",
   "source": [
    "Виждаме, че имаме данни от тип `object` (текстови данни), `float64` (дробни числа) и `int64` (цели числа).\n",
    "\n",
    "Числовите колони са:\n",
    "- `EngineSize` - обем на двигателя\n",
    "- `Horsepower` - мощност на двигателя\n",
    "- `Mileage` - пробег на автомобила\n",
    "- `MilesPerFullCharge (EV)` - пробег на електрически автомобили с едно зареждане\n",
    "- `BatteryCapacity (EV)` - капацитет на батерията на електрически автомобили\n",
    "- `ViewCount` - брой преглеждания на обявата\n",
    "\n",
    "Текстовите колони са:\n",
    "- `Make` - марка на автомобила\n",
    "- `Model` - модел на автомобила\n",
    "- `BodyType` - тип на купето\n",
    "- `ManufactureDate` - дата на производство\n",
    "- `FuelType` - тип на горивото\n",
    "- `Transmission` - тип на трансмисията\n",
    "- `EuroStandard` - евростандарт на автомобила\n",
    "- `Color` - цвят на автомобила\n",
    "- `VIN` - VIN номер на автомобила\n",
    "- `Price` - цена на автомобила (Интересно е, че тази колона не е от числов тип - трябва да разберем защо)\n",
    "- `SafetyFeatures` - налични екстри за сигурност\n",
    "- `ComfortFeatures` - налични екстри за комфорт\n",
    "- `OtherFeatures` - други налични екстри\n",
    "- `ExteriorFeatures` - външни екстри\n",
    "- `InteriorFeatures` - вътрешни екстри\n",
    "- `SpecialisedFeatures` - специализирани екстри\n",
    "- `Region` - област, в която се намира автомобилът\n",
    "- `City` - населено място, в което се намира автомобилът\n",
    "- `OfferTitle` - заглавие на обявата"
   ],
   "id": "c9b8fed0b7e09bdf"
  },
  {
   "metadata": {},
   "cell_type": "code",
   "source": "dataset.describe(include='all')",
   "id": "ca8eebcfa1da074",
   "outputs": [],
   "execution_count": null
  },
  {
   "metadata": {},
   "cell_type": "markdown",
   "source": [
    "## Price - целевата променлива\n",
    "\n",
    "Нека започнем подробния анализ с нашата целева променлива - обявената цена на автомобила `Price`.\n",
    "Да разгледаме разпределението на цените на автомобилите:"
   ],
   "id": "694db1d57ca0d5b1"
  },
  {
   "metadata": {},
   "cell_type": "code",
   "source": [
    "prices = dataset['Price']\n",
    "\n",
    "prices.value_counts(dropna=False)"
   ],
   "id": "658b50e6e0890ef",
   "outputs": [],
   "execution_count": null
  },
  {
   "metadata": {},
   "cell_type": "markdown",
   "source": "Оказва се, че в доста от обявите няма определена точна цена, а вместо това е посочено `\"При запитване\"`. Това е и причината тази колона да не е от числов тип. Ще трябва да обработим тези записи преди да можем да използваме тази колона за обучение на модела. Да видим дали няма и други текстови стойности в тази колона:",
   "id": "292fabdf6903da62"
  },
  {
   "metadata": {},
   "cell_type": "code",
   "source": "prices[prices.str.contains('[a-zA-Z]')].value_counts()",
   "id": "83a8ec261f8933a1",
   "outputs": [],
   "execution_count": null
  },
  {
   "metadata": {},
   "cell_type": "markdown",
   "source": [
    "Имаме 8 обяви с цена, обявена в долари. Ще трябва да преобразуваме тези цени в левове, за да можем да ги използваме за обучение на модела.\n",
    "\n",
    "Да видим как изглежда разпределението на цените на автомобилите:"
   ],
   "id": "b55e464127e69fdb"
  },
  {
   "metadata": {},
   "cell_type": "code",
   "source": [
    "numeric_prices = prices[~prices.str.contains('[a-zA-Zа-яА-Я]')].astype(float).round()\n",
    "\n",
    "numeric_prices.describe()"
   ],
   "id": "25096d5b28c53b58",
   "outputs": [],
   "execution_count": null
  },
  {
   "metadata": {},
   "cell_type": "markdown",
   "source": [
    "Веднага се забелязват няколко неща:\n",
    "- най-ниската цена на автомобил е 11 лева, което е изключително ниска стойност и най-вероятно е въведена за привличане на внимание към обявата, т.е. бихме могли да я считаме за аутлайър и да не взимаме подобни цени под внимание, тъй като могат да повлият негативно на точността на модела\n",
    "- най-високата цена на автомобил е 19 558 298 лева, което също е много висока стойност и може да бъде аутлайър\n",
    "- 75% от автомобилите са на цена до 33 000 лева, едва 25% са на цена над тази стойност - доста по-големите цени са рядкост и може да се окаже, че са аутлайъри, които да не вземаме под внимание\n",
    "\n",
    "Да видим как изглежда разпределението на цените на автомобилите графично:"
   ],
   "id": "5bc286eabc184c31"
  },
  {
   "metadata": {},
   "cell_type": "code",
   "source": [
    "plt.figure(figsize=(12, 6))\n",
    "plt.title('Разпределение на цените на автомобилите')\n",
    "plt.xlabel('Цена (лв.)')\n",
    "plt.ylabel('Брой обяви')\n",
    "sns.histplot(numeric_prices, bins=100, kde=True)"
   ],
   "id": "af95ef52e600f3ee",
   "outputs": [],
   "execution_count": null
  },
  {
   "metadata": {},
   "cell_type": "markdown",
   "source": "Нека премахнем автомобилите с цена под 500 лева и над 150 000 лева, за да можем да видим по-детайлно разпределението на цените:",
   "id": "5f49eadd3a06175b"
  },
  {
   "metadata": {},
   "cell_type": "code",
   "source": [
    "numeric_prices_no_outliers = numeric_prices[(numeric_prices >= 500) & (numeric_prices <= 150000)]\n",
    "\n",
    "plt.figure(figsize=(12, 6))\n",
    "plt.title('Разпределение на цените на автомобилите без аутлайъри')\n",
    "plt.xlabel('Цена (лв.)')\n",
    "plt.ylabel('Брой обяви')\n",
    "sns.histplot(numeric_prices_no_outliers, kde=True)"
   ],
   "id": "62828528ff1e97f5",
   "outputs": [],
   "execution_count": null
  },
  {
   "metadata": {},
   "cell_type": "markdown",
   "source": "Графиката потвърждава видяното в таблицата по-горе - мнозинството от автомобилите са на цена до 33 000 лева, а по-големите цени са рядкост и можем да ги изключим от набора за обучение на модела, тъй като те ще изкривят значително предсказанията му.",
   "id": "b3451061ec519adc"
  },
  {
   "metadata": {},
   "cell_type": "code",
   "source": [
    "plt.figure(figsize=(12, 6))\n",
    "plt.title('Разпределение на цените на автомобилите без аутлайъри')\n",
    "plt.ylabel('Цена (лв.)')\n",
    "\n",
    "sns.boxplot(numeric_prices_no_outliers)"
   ],
   "id": "c98169cdc2306c7d",
   "outputs": [],
   "execution_count": null
  },
  {
   "metadata": {},
   "cell_type": "markdown",
   "source": "Да видим колко празни стойности имаме в колоната `Price`:",
   "id": "a32f21b3422d88ef"
  },
  {
   "metadata": {},
   "cell_type": "code",
   "source": "prices.isna().sum()",
   "id": "de191e1017657776",
   "outputs": [],
   "execution_count": null
  },
  {
   "metadata": {},
   "cell_type": "markdown",
   "source": "За щастие, нямаме празни стойности в тази колона.",
   "id": "16b74f2266333225"
  },
  {
   "metadata": {},
   "cell_type": "markdown",
   "source": "## Марка, модел, тип на купето",
   "id": "fc2c7d7736e1205e"
  },
  {
   "metadata": {},
   "cell_type": "markdown",
   "source": "Да разгледаме как са разпределени марките и моделите на автомобилите в нашия набор от данни:",
   "id": "2e6eb1cf2ec00df4"
  },
  {
   "metadata": {},
   "cell_type": "code",
   "source": [
    "make_model_body = ['Make', 'Model', 'BodyType']\n",
    "\n",
    "dataset[make_model_body].describe(include='all')"
   ],
   "id": "75e00dbebc4ab636",
   "outputs": [],
   "execution_count": null
  },
  {
   "metadata": {},
   "cell_type": "markdown",
   "source": [
    "Имаме данни за 112 марки и 1403 модела автомобили, като най-често срещаният производител е Mercedes-Benz, а най-често срещаният модел е Golf (Volkswagen). Типовете купета са 11 на брой, като най-популярен е джипът.\n",
    "\n",
    "Ще бъде интересно да разгледаме дяловете на различните марки и модели в нашия набор от данни."
   ],
   "id": "8cf0a07eba05ddc3"
  },
  {
   "metadata": {},
   "cell_type": "code",
   "source": [
    "make_value_counts = dataset['Make'].value_counts()\n",
    "\n",
    "plt.figure(figsize=(18, 6))\n",
    "\n",
    "plt.subplot(1, 2, 1)\n",
    "plt.title('Дял на обявите по марка')\n",
    "plt.pie(make_value_counts, labels=make_value_counts.index, autopct='%1.1f%%')\n",
    "\n",
    "plt.subplot(1, 2, 2)\n",
    "plt.title('Брой на обявите за първите 15 марки автомобили')\n",
    "plt.ylabel('Марка')\n",
    "plt.xlabel('Брой обяви')\n",
    "sns.barplot(x=make_value_counts.head(15).values, y=dataset['Make'].value_counts().head(15).index, orient='h')"
   ],
   "id": "37e814b6cb4d6a0e",
   "outputs": [],
   "execution_count": null
  },
  {
   "metadata": {},
   "cell_type": "markdown",
   "source": [
    "За българските шофьори едва ли ще бъде изненада, че най-популярните марки автомобили у нас са немските производители на премиум автомобили - а именно Mercedes-Benz, BMW и Audi. Делът на тези 3 марки в нашия набор от данни е над 30%, което е впечатляващо. Близко след тях е друг немски производител - Volkswagen, който също е много популярен у нас. Останалите марки се задоволявят с доста по-малък дял от пазара, като те си поделят по около 1-2% от обявите.\n",
    "\n",
    "Да видим как стоят нещата при моделите:"
   ],
   "id": "f554587cdec7f692"
  },
  {
   "metadata": {},
   "cell_type": "code",
   "source": [
    "model_value_counts = dataset['Model'].value_counts()\n",
    "\n",
    "plt.title('Брой обяви за първите 15 модели автомобили')\n",
    "plt.ylabel('Модел')\n",
    "plt.xlabel('Брой обяви')\n",
    "sns.barplot(x=model_value_counts.head(15).values, y=dataset['Model'].value_counts().head(15).index, orient='h')"
   ],
   "id": "f89dfde768325c0b",
   "outputs": [],
   "execution_count": null
  },
  {
   "metadata": {},
   "cell_type": "markdown",
   "source": [
    "Тук ситуацията изглежда по-балансирана - най-популярен е Golf на Volkswagen, но не доминира съществено над останалите модели. Сред първите 15 модела се нареждат предимно модели на немските производители, но виждаме и такива на японските производители Toyota и Honda, както и на чешкия Skoda.\n",
    "\n",
    "Нека проверим как се разпределят типовете купета:"
   ],
   "id": "3fd48d550a502529"
  },
  {
   "metadata": {},
   "cell_type": "code",
   "source": [
    "body_type_value_counts = dataset['BodyType'].value_counts()\n",
    "\n",
    "plt.figure(figsize=(12, 6))\n",
    "plt.title('Дял на обявите по вид купе')\n",
    "plt.pie(body_type_value_counts, labels=body_type_value_counts.index, autopct='%1.1f%%')"
   ],
   "id": "4613394dc28efcaf",
   "outputs": [],
   "execution_count": null
  },
  {
   "metadata": {},
   "cell_type": "markdown",
   "source": "Пазарът е относително равномерно разпределен между различните типове купета, като най-голям дял имат джиповете и хечбековете - общо почти половината от обявите са за тези два типа купета. След тях са седаните и комбитата, които също притежават значителен дял от пазара.",
   "id": "243cf7b8c71e78d0"
  },
  {
   "metadata": {},
   "cell_type": "markdown",
   "source": "Да проверим дали имаме празни стойности в колоните `Make`,`Model` и `BodyType`:",
   "id": "470131193e9195d"
  },
  {
   "metadata": {},
   "cell_type": "code",
   "source": "dataset[make_model_body].isna().sum()",
   "id": "b502776c21506273",
   "outputs": [],
   "execution_count": null
  },
  {
   "metadata": {},
   "cell_type": "markdown",
   "source": [
    "## Дата на производство\n",
    "\n",
    "Нека проверим разпределението на автомобилите по тяхната година на производство:"
   ],
   "id": "b4bd16f52e40c362"
  },
  {
   "metadata": {},
   "cell_type": "code",
   "source": "dataset['ManufactureDate'].describe(include='all')",
   "id": "bffafaae5286386",
   "outputs": [],
   "execution_count": null
  },
  {
   "metadata": {},
   "cell_type": "code",
   "source": [
    "years_of_manufacture = dataset['ManufactureDate'].dropna().str.split('/').str[1].astype(int)\n",
    "\n",
    "years_of_manufacture.describe()"
   ],
   "id": "f07b25798fb546ea",
   "outputs": [],
   "execution_count": null
  },
  {
   "metadata": {},
   "cell_type": "code",
   "source": [
    "plt.title('Разпределение на автомобилите по година на производство')\n",
    "plt.xlabel('Година на производство')\n",
    "plt.ylabel('Брой обяви')\n",
    "\n",
    "sns.histplot(years_of_manufacture, kde=True)"
   ],
   "id": "26a0dcff8c18f1b3",
   "outputs": [],
   "execution_count": null
  },
  {
   "metadata": {},
   "cell_type": "markdown",
   "source": "От таблицата и графиката е видно, че почти всички автомобили са произведени след 1990г., като най-голям брой от тях са произведени през новото хилядолетие. Най-старият автомобил в нашия набор от данни е произведен през 1931г. - по всяка вероятност това е класически автомобил, чиято цена едва ли ще бъде ниска, както би се очаквало от автомобил на голяма възраст. Нека го разгледаме:",
   "id": "8ac68d54d00dbdad"
  },
  {
   "metadata": {},
   "cell_type": "code",
   "source": [
    "boolean_mask = (years_of_manufacture == 1931)\n",
    "boolean_mask.index = dataset.index[years_of_manufacture.index]\n",
    "\n",
    "dataset.dropna(subset='ManufactureDate').loc[boolean_mask]"
   ],
   "id": "d982c1f6ecfe617",
   "outputs": [],
   "execution_count": null
  },
  {
   "metadata": {},
   "cell_type": "markdown",
   "source": [
    "Всъщност изглежда, че тази обява съдържа грешна информация, тъй като моделът е записан като Mustang, което не е възможно, тъй като моделът Мustang влиза в прозиводство едва през 1964г. Тази и подобни обяви ще трябва да бъдат премахнати от набора от данни, тъй като те могат да изкривят резултатите на модела.\n",
    "\n",
    "Сега нека проверим как годината на производство влияе на цената на един автомобил: "
   ],
   "id": "5e6d549d53da1ab2"
  },
  {
   "metadata": {},
   "cell_type": "code",
   "source": [
    "# Ensure numeric_prices_no_outliers and years_of_manufacture have the same length\n",
    "valid_indices = numeric_prices_no_outliers.index.intersection(years_of_manufacture.index)\n",
    "\n",
    "# Filter dataset to include only valid rows\n",
    "filtered_dataset = dataset.loc[valid_indices]\n",
    "filtered_prices = numeric_prices_no_outliers.loc[valid_indices]\n",
    "filtered_years = years_of_manufacture.loc[valid_indices]\n",
    "\n",
    "plt.figure(figsize=(6, 12))\n",
    "plt.title('Цена на автомобилите спрямо годината на производство')\n",
    "plt.xlabel('Цена (лв.)')\n",
    "plt.ylabel('Година на производство')\n",
    "sns.boxplot(x=filtered_prices, y=filtered_years, orient='h')"
   ],
   "id": "92759bf2b08c6041",
   "outputs": [],
   "execution_count": null
  },
  {
   "metadata": {},
   "cell_type": "markdown",
   "source": [
    "Наблюдават се няколко интересни тенденции:\n",
    "- 1951 - 1998г. - Средната цена на автомобилите по-скоро намалява с годините, с изключения в някои години. Това може би се дължи на факта, че автомобилите произведени в началото на този период са придобили колекционерска стойност, тъй като се срещат все по-рядко поради тяхната възраст, а тези от по-късния период все още се срещат често по пътищата и възрастта им по-скоро влияе негативно на цената им.\n",
    "- 1998 - 2024г. - В този период средната цена на автомобилите нараства с годините, като от 2010г. нататък тази тенденция става все по-ясно изразена."
   ],
   "id": "12f470b4751d139b"
  },
  {
   "metadata": {},
   "cell_type": "markdown",
   "source": [
    "## За двигатели\n",
    "\n",
    "Да разгледаме наличниите данни за двигателите в автомобилите:"
   ],
   "id": "b3af04bc455c5f2a"
  },
  {
   "metadata": {},
   "cell_type": "code",
   "source": "dataset.columns",
   "id": "306b7e5ee24da59f",
   "outputs": [],
   "execution_count": null
  },
  {
   "metadata": {},
   "cell_type": "markdown",
   "source": [
    "Двигателите на автомобилите се описват от следните колони:\n",
    "- `EngineSize` - обем на двигателя в кубични сантиметри\n",
    "- `FuelType` - тип на горивото\n",
    "- `Horsepower` - мощност на двигателя в конски сили\n",
    "- `EuroStandard` - евро категория на двигателя"
   ],
   "id": "b10a14321196699d"
  },
  {
   "metadata": {},
   "cell_type": "code",
   "source": [
    "engine_columns = ['EngineSize', 'FuelType', 'Horsepower', 'EuroStandard']\n",
    "\n",
    "dataset[engine_columns].describe(include='all')"
   ],
   "id": "67bae7ef6aa1b853",
   "outputs": [],
   "execution_count": null
  },
  {
   "metadata": {},
   "cell_type": "code",
   "source": [
    "valid_indices = numeric_prices_no_outliers.index.intersection(dataset['EngineSize'].dropna().index)\n",
    "filtered_dataset = dataset.loc[valid_indices]\n",
    "filtered_prices = numeric_prices_no_outliers.loc[valid_indices]\n",
    "\n",
    "plt.title('Цена на автомобилите спрямо обема на двигателя')\n",
    "ax = sns.regplot(data=filtered_dataset, x='EngineSize', y=filtered_prices)\n",
    "ax.set(xlabel='Обем на двигателя (куб. см.)', ylabel='Цена (лв.)')"
   ],
   "id": "38bb31ddc6afef22",
   "outputs": [],
   "execution_count": null
  },
  {
   "metadata": {},
   "cell_type": "markdown",
   "source": "Обем на двигателя над 10 000 куб. см. изглежда като аномалия и не е възможно да има толкова много автомобили с толкова големи двигатели. Нека разгледаме тези записи:",
   "id": "bd5291735738d26f"
  },
  {
   "metadata": {},
   "cell_type": "code",
   "source": "dataset[dataset['EngineSize'] > 10000].sample(15)",
   "id": "50112ad7f2612b1f",
   "outputs": [],
   "execution_count": null
  },
  {
   "metadata": {},
   "cell_type": "markdown",
   "source": [
    "Изглежда, че тези записи съдържат грешни данни - при попълването на обема е добавена допълнителна нула. Тези записи ще трябва да бъдат поправени преди да ги използваме за обучение.\n",
    "\n",
    "Да видим отново графиката като премахнем аномалиите:"
   ],
   "id": "a692c979a9bea194"
  },
  {
   "metadata": {},
   "cell_type": "code",
   "source": [
    "filtered_dataset = filtered_dataset[filtered_dataset['EngineSize'] < 10000]\n",
    "filtered_prices = numeric_prices_no_outliers.loc[filtered_dataset.index]\n",
    "\n",
    "plt.title('Цена на автомобилите спрямо обема на двигателя без аутлайъри')\n",
    "ax = sns.regplot(data=filtered_dataset, x='EngineSize', y=filtered_prices, line_kws={'color': 'red'})\n",
    "ax.set(xlabel='Обем на двигателя (куб. см.)', ylabel='Цена (лв.)')"
   ],
   "id": "d666bbcf8bfbfdfc",
   "outputs": [],
   "execution_count": null
  },
  {
   "metadata": {},
   "cell_type": "markdown",
   "source": "Едва ли е изненадващо, че по-големият обем на двигателя води до по-висока цена на автомобила. По-големите двигатели обикновено са и по-мощни, което също води до по-висока цена.",
   "id": "d57a0ecfb2b2893d"
  },
  {
   "metadata": {},
   "cell_type": "code",
   "source": [
    "filtered_prices = numeric_prices_no_outliers.loc[filtered_dataset.index]\n",
    "\n",
    "plt.figure(figsize=(12, 6))\n",
    "\n",
    "plt.subplot(1, 2, 1)\n",
    "plt.title('Мощност на двигателя спрямо обема му')\n",
    "ax = sns.regplot(data=filtered_dataset, x='EngineSize', y='Horsepower', line_kws={'color': 'red'})\n",
    "ax.set(xlabel='Обем на двигателя (куб. см.)', ylabel='Мощност на двигателя (к.с.)')\n",
    "\n",
    "plt.subplot(1, 2, 2)\n",
    "plt.title('Цена на автомобила спрямо мощността му')\n",
    "ax = sns.regplot(data=filtered_dataset, x='Horsepower', y=filtered_prices, line_kws={'color': 'red'})\n",
    "ax.set(xlabel='Мощност на двигателя (к.с.)', ylabel='Цена (лв.)')"
   ],
   "id": "ca7d06eec996c484",
   "outputs": [],
   "execution_count": null
  },
  {
   "metadata": {},
   "cell_type": "markdown",
   "source": "При мощността на двигателя също намираме аътлайъри - автомобили с мощност над 1000 конски сили. Тези записи едва ли са грешни - тези стойности е напълно възможно да бъдат достигнати от силно модифицирани или спортни автомобили. Нека разгледаме тези записи:",
   "id": "d35f24a1965031f0"
  },
  {
   "metadata": {},
   "cell_type": "code",
   "source": "dataset[dataset['Horsepower'] > 1000].sample(15)",
   "id": "5b6d13441d56349f",
   "outputs": [],
   "execution_count": null
  },
  {
   "metadata": {},
   "cell_type": "markdown",
   "source": [
    "Всъщност виждаме, че тези стойности са грешни - по-голямата част от тях съответстват на обем на двигателя (1600, 1800, 2000 и т.н.). На някой места обемът на двигателя е записан като мощност, а на други обратното. Тези записи ще трябва да бъдат поправени преди да ги използваме за обучение.\n",
    "\n",
    "Да погледнем отново графиката, като премахнем аутлайърите:"
   ],
   "id": "23905dfa6bc7657d"
  },
  {
   "metadata": {},
   "cell_type": "code",
   "source": [
    "filtered_dataset = filtered_dataset[filtered_dataset['Horsepower'] < 1000]\n",
    "filtered_prices = numeric_prices_no_outliers.loc[filtered_dataset.index]\n",
    "\n",
    "plt.title('Цена на автомобилите спрямо мощността на двигателя без аутлайъри')\n",
    "ax = sns.regplot(data=filtered_dataset, x='Horsepower', y=filtered_prices, line_kws={'color': 'red'})\n",
    "ax.set(xlabel='Мощност на двигателя (к.с.)', ylabel='Цена (лв.)')"
   ],
   "id": "2218c5095648cebd",
   "outputs": [],
   "execution_count": null
  },
  {
   "metadata": {},
   "cell_type": "markdown",
   "source": "Връзката е очевидна - по-мощните автомобили са по-скъпи.",
   "id": "188a96b61a7b350c"
  },
  {
   "metadata": {},
   "cell_type": "markdown",
   "source": "Да видим как са разпределени различните типове гориво:",
   "id": "5ea46e20e5bd0a2a"
  },
  {
   "metadata": {},
   "cell_type": "code",
   "source": [
    "fuel_type_value_counts = dataset['FuelType'].value_counts()\n",
    "\n",
    "plt.figure(figsize=(12, 6))\n",
    "plt.title('Дял на обявите по вид гориво')\n",
    "plt.pie(fuel_type_value_counts, labels=fuel_type_value_counts.index, autopct='%1.1f%%')"
   ],
   "id": "b2aaa33eff7b33e1",
   "outputs": [],
   "execution_count": null
  },
  {
   "metadata": {},
   "cell_type": "markdown",
   "source": "В България най-популярни са дизеловите автомобили като те доминират пазара - над половината от автомобилите са дизелови. Бензиновите автомобили също са популярни. Електрическите и хибридните автомобили са много редки у нас, като техния дял е общо около 3%.",
   "id": "e2d4daa32bfd85ac"
  },
  {
   "metadata": {},
   "cell_type": "code",
   "source": [
    "filtered_dataset = dataset.copy()\n",
    "filtered_prices = numeric_prices_no_outliers.index.intersection(filtered_dataset.index)\n",
    "\n",
    "filtered_dataset = filtered_dataset.loc[filtered_prices]\n",
    "filtered_prices = numeric_prices_no_outliers.loc[filtered_prices]\n",
    "\n",
    "plt.title('Цени на автомобилите спрямо вида на горивото')\n",
    "plt.xlabel('Вид на горивото')\n",
    "plt.ylabel('Цена (лв.)')\n",
    "sns.boxplot(data=filtered_dataset, x='FuelType', y=filtered_prices, hue='FuelType')"
   ],
   "id": "1078686dc2b20d36",
   "outputs": [],
   "execution_count": null
  },
  {
   "metadata": {},
   "cell_type": "markdown",
   "source": "По отношение на цената разбираме, че дизеловите и бензиновите автомобили са на сродни цени. Малко по-скъпи от тях са хибридите, последвани от електрическите такива. Най-скъпи са Plug-in хибридите.",
   "id": "86499e14e060c289"
  },
  {
   "metadata": {},
   "cell_type": "code",
   "source": [
    "euro_standard_value_counts = dataset['EuroStandard'].value_counts()\n",
    "\n",
    "plt.figure(figsize=(12, 6))\n",
    "plt.title('Дял на обявите по евро стандарт')\n",
    "plt.pie(euro_standard_value_counts, labels=euro_standard_value_counts.index, autopct='%1.1f%%')"
   ],
   "id": "af2adc88b9cf65eb",
   "outputs": [],
   "execution_count": null
  },
  {
   "metadata": {},
   "cell_type": "markdown",
   "source": "Интересно е, че над 1/3 от колите са с категория Евро 6 - най-високата еко категория. На второто място е Евро 4, а много близо зад нея е Евро 5. Останалите категории не са много предлагани, от една страна, защото автомобилите от тези категории са вече доста стари, но и защото тези категории са обвързани с по-високи данъци и такси, което ги прави по-малко привлекателни за покупка. ",
   "id": "58b2294d831f302b"
  },
  {
   "metadata": {},
   "cell_type": "code",
   "source": [
    "valid_indices = numeric_prices_no_outliers.index.intersection(dataset[engine_columns].dropna().index)\n",
    "\n",
    "# Filter dataset to include only valid rows\n",
    "filtered_dataset = dataset.loc[valid_indices]\n",
    "filtered_prices = numeric_prices_no_outliers.loc[valid_indices]\n",
    "\n",
    "plt.title('Цена на автомобилите спрямо евро стандарта на двигателя')\n",
    "plt.xlabel('Евро стандарт')\n",
    "plt.ylabel('Цена (лв.)')\n",
    "sns.boxplot(data=filtered_dataset, x='EuroStandard', y=numeric_prices_no_outliers, hue='EuroStandard')"
   ],
   "id": "5b5248091c1bbdc6",
   "outputs": [],
   "execution_count": null
  },
  {
   "metadata": {},
   "cell_type": "markdown",
   "source": [
    "Наблюдения:\n",
    "- `Евро 1, 2, 3` - Няма особена разлика в средната цена на автомобилите от тези категории, като те са доста по-евтини от останалите\n",
    "- `Евро 4, 5` - Средната цена на автомобилите от тези категории е малко по-висока спрямо предходните категории 1, 2 и 3, но по-ниска от тези от категориите 6\n",
    "- `Евро 6` - Ценовият диапазон е доста по-голям от този на останалите категории"
   ],
   "id": "29737fea7d597dcf"
  },
  {
   "metadata": {},
   "cell_type": "markdown",
   "source": [
    "## Данни за електрически автомобили\n",
    "\n",
    "Имаме и няколко колони съдържащи информация само за електрически автомобили - колоните `MilesPerFullCharge (EV)` (пробег на електрически автомобили с едно зареждане) и `BatteryCapacity (EV)` (капацитет на батерията на електрически автомобили). Да разгледаме тези данни:"
   ],
   "id": "fa9cf715a0a68949"
  },
  {
   "metadata": {},
   "cell_type": "code",
   "source": [
    "ev_columns = ['MilesPerFullCharge (EV)', 'BatteryCapacity (EV)']\n",
    "\n",
    "dataset[ev_columns].describe(include='all')"
   ],
   "id": "c687790522ed9484",
   "outputs": [],
   "execution_count": null
  },
  {
   "metadata": {},
   "cell_type": "markdown",
   "source": "Веднага виждаме, че имаме много празни стойности в тези колони, тъй като, както вече видяхме, електрическите автомобили са слабо представени в нашия набор от данни. Да видим колко са те:",
   "id": "93cde59c0b432675"
  },
  {
   "metadata": {},
   "cell_type": "code",
   "source": "dataset[ev_columns].isna().sum()",
   "id": "329e112dda74511a",
   "outputs": [],
   "execution_count": null
  },
  {
   "metadata": {},
   "cell_type": "markdown",
   "source": "Отново, както и при по-горе разгледаните колони, се виждат стойности, които са много високи/ниски и вероятно са грешни данни. Нека разгледаме разпределението на стойностите в тези колони:",
   "id": "3dec56e68699c5bb"
  },
  {
   "metadata": {},
   "cell_type": "code",
   "source": [
    "miles_per_full_charge = dataset['MilesPerFullCharge (EV)'].dropna().astype(float)\n",
    "battery_capacity = dataset['BatteryCapacity (EV)'].dropna().astype(float)\n",
    "\n",
    "plt.figure(figsize=(12, 6))\n",
    "plt.title('Разпределение на пробега на електрически автомобили с едно зареждане и капацитета на батерията')\n",
    "sns.boxplot(data=pd.DataFrame({'MilesPerFullCharge (EV)': miles_per_full_charge, 'BatteryCapacity (EV)': battery_capacity}))"
   ],
   "id": "e453594ac35739d8",
   "outputs": [],
   "execution_count": null
  },
  {
   "metadata": {},
   "cell_type": "markdown",
   "source": "Добра новина е, че тук аутлайрите изглежда са доста малко на брой. Нека все пак разгледаме някои:",
   "id": "8c836107a92ed4f5"
  },
  {
   "metadata": {},
   "cell_type": "code",
   "source": "dataset[dataset['MilesPerFullCharge (EV)'] > 1000].head()",
   "id": "20e0152a6b7b5783",
   "outputs": [],
   "execution_count": null
  },
  {
   "metadata": {},
   "cell_type": "markdown",
   "source": "При тези автомобили е трудно да се определи от какво е предизвикана грешката, но със сигурност тези стойности са грешни. Понеже тези записи са едва 2 на брой, бихме могли просто да ги премахнем от набора от данни.",
   "id": "c3c3797eb537b77a"
  },
  {
   "metadata": {},
   "cell_type": "code",
   "source": "dataset[dataset['BatteryCapacity (EV)'] > 150].sample(15)",
   "id": "5589877e802fcd6e",
   "outputs": [],
   "execution_count": null
  },
  {
   "metadata": {},
   "cell_type": "markdown",
   "source": [
    "Отново, тези стойности изглеждат като грешни данни. Бихме могли да ги заменим със средната стойност на колоната за съответния модел.\n",
    "\n",
    "Сега нека разгледаме така важната връзка между пробега с едно зареждане и капацитета на батерията, и цената на автомобила:"
   ],
   "id": "f6b70857d4102e2"
  },
  {
   "metadata": {},
   "cell_type": "code",
   "source": [
    "valid_indices = numeric_prices_no_outliers.index.intersection(dataset[ev_columns].dropna().index)\n",
    "\n",
    "filtered_dataset = dataset.loc[valid_indices]\n",
    "filtered_prices = numeric_prices_no_outliers.loc[valid_indices]\n",
    "\n",
    "plt.ylim(0, 150000)\n",
    "plt.xlim(0, 1000)\n",
    "plt.title('Цена на автомобилите спрямо пробега с едно зареждане')\n",
    "ax = sns.regplot(data=filtered_dataset, x='MilesPerFullCharge (EV)', y=filtered_prices, line_kws={'color': 'red'})\n",
    "ax.set(xlabel='Пробег с едно зареждане (км.)', ylabel='Цена (лв.)')"
   ],
   "id": "30af17e3a4bddc29",
   "outputs": [],
   "execution_count": null
  },
  {
   "metadata": {},
   "cell_type": "markdown",
   "source": [
    "Не виждаме изненади - пробегът с едно зареждане на електрическия автомобил е може би първото нещо, от което се интересува всеки потенциален купувач. Това е отразено и в търсената цена. Но на графиката ясно се открояват две групи наблюдения:\n",
    "- автомобили с пробег до около 100км и цена, която варира в целия диапазон - Защо цената на автомобил с толкова малък пробег е толкова висока, обратно на тенденцията, която наблюдаваме?\n",
    "- автомобили с вариращ пробег, при които видно цената се покачва с увеличаването на пробега\n",
    "\n",
    "Една хипотеза, която бихме могли да проверим е, че този клъстър от скъпи автомобили с нисък пробег са всъщност хибридни автомобили, които комбинират електрическата енергия с тази, произведена от ДВГ (Двигател с вътрешно горене) и затова пробегът им на ток е нисък. Нека проверим тази хипотеза:"
   ],
   "id": "46bb484cb71b9975"
  },
  {
   "metadata": {},
   "cell_type": "code",
   "source": [
    "plt.ylim(0, 150000)\n",
    "plt.xlim(0, 1000)\n",
    "\n",
    "plt.title('Цена на автомобилите спрямо пробега с едно зареждане')\n",
    "plt.xlabel('Пробег с едно зареждане (км.)')\n",
    "plt.ylabel('Цена (лв.)')\n",
    "sns.scatterplot(data=filtered_dataset, x='MilesPerFullCharge (EV)', y=filtered_prices, hue='FuelType')"
   ],
   "id": "bf06828102ca10d",
   "outputs": [],
   "execution_count": null
  },
  {
   "metadata": {},
   "cell_type": "markdown",
   "source": "Изглежда, че тази хипотеза е вярна - клъстерът е съставен изключително от Plug-in хибриди, чиято цена варира драстично в зависимост от модела и марката.",
   "id": "5c47d0cf7e30e274"
  },
  {
   "metadata": {},
   "cell_type": "markdown",
   "source": [
    "## Пробег\n",
    "\n",
    "Следва да разгледаме изключително важна характеристика за всеки употребяван автомобил - неговият пробег. Всеки шофьор знае, че големият пробег намалява цената на автомобила драстично. Нека проверим как всъщност пробегът влияе на цената на автомобила:"
   ],
   "id": "c834e67dfc9c1ff4"
  },
  {
   "metadata": {},
   "cell_type": "code",
   "source": "dataset['Mileage'].describe(include='all')",
   "id": "c9aa919735fc84bd",
   "outputs": [],
   "execution_count": null
  },
  {
   "metadata": {},
   "cell_type": "markdown",
   "source": "Средният пробег на употребяван автомобил в България е ок. 180 000 км. Отново срещаме подозрително високи/ниски стойности, които ще трябва да премахнем. ",
   "id": "f08fbc9795d6e495"
  },
  {
   "metadata": {},
   "cell_type": "code",
   "source": [
    "miles = dataset['Mileage'].dropna().astype(float)\n",
    "miles.drop(miles[miles > 500000].index, inplace=True)\n",
    "\n",
    "sns.displot(miles, kde=True)"
   ],
   "id": "ab5048776330ded8",
   "outputs": [],
   "execution_count": null
  },
  {
   "metadata": {},
   "cell_type": "markdown",
   "source": "Повечето автомобили са с пробег между 150 000 и 250 000 км, като стойностите над 400 000 км са много редки и ще ги считаме за аутлайъри.",
   "id": "5116da43eff88177"
  },
  {
   "metadata": {},
   "cell_type": "code",
   "source": [
    "plt.title('Разпределение на пробега на автомобилите')\n",
    "plt.ylabel('Пробег (км.)')\n",
    "sns.boxplot(miles)"
   ],
   "id": "8debf5f44a954c4",
   "outputs": [],
   "execution_count": null
  },
  {
   "metadata": {},
   "cell_type": "code",
   "source": [
    "valid_indices = numeric_prices_no_outliers.index.intersection(miles.index)\n",
    "\n",
    "filtered_dataset = dataset.loc[valid_indices]\n",
    "filtered_prices = numeric_prices_no_outliers.loc[valid_indices]\n",
    "\n",
    "plt.ylim(0, 150000)\n",
    "plt.title('Цена на автомобилите спрямо пробега')\n",
    "plt.xlabel('Пробег (км.)')\n",
    "plt.ylabel('Цена (лв.)')\n",
    "sns.regplot(data=filtered_dataset, x='Mileage', y=filtered_prices, line_kws={'color': 'red'})"
   ],
   "id": "773de9a09cb459b7",
   "outputs": [],
   "execution_count": null
  },
  {
   "metadata": {},
   "cell_type": "markdown",
   "source": "До около 100 000 км. наблюдаваме автомобили с цени, разпръснати в целия ценови диапазон - явно пробегът не оказва достатъчно голямо влияние при такива автомобили. След тази граница, обаче, цената започва видимо да намалява с увеличаването на пробега.",
   "id": "8d1faac233cd15fe"
  },
  {
   "metadata": {},
   "cell_type": "markdown",
   "source": [
    "## Данни за местоположението\n",
    "\n",
    "Колоните описващи местоположението на автомобила също представляват интерес за нас. Икономическота положение може да варира драстично в различните области на България и това може да окаже влияние на паричната стойност на автомобилите, които хората употребяват в тях. Да разгледаме тези колони:"
   ],
   "id": "11f5a669b8fe9836"
  },
  {
   "metadata": {},
   "cell_type": "code",
   "source": [
    "location_columns = ['Region', 'City']\n",
    "\n",
    "dataset[location_columns].describe(include='all')"
   ],
   "id": "1fecb01e80d12329",
   "outputs": [],
   "execution_count": null
  },
  {
   "metadata": {},
   "cell_type": "markdown",
   "source": "Имаме автомобили от всички области в България, но има и още една стойност, която не знаем какво представлява - областите в България са само 28. Да погледнем стойностите в тази колона по-подробно:",
   "id": "571d2270fab28936"
  },
  {
   "metadata": {},
   "cell_type": "code",
   "source": "dataset['Region'].value_counts()",
   "id": "f9dca082655b6908",
   "outputs": [],
   "execution_count": null
  },
  {
   "metadata": {},
   "cell_type": "markdown",
   "source": "Оказва се, че 29-тата област всъщност показва автомобили от чужбина. За всеки случай би било добре да премахнем такива записи от данните, тъй като в дадената цена може да присъстват разходи за внасяне на автомобила в страната, които не произлизат от самия автомобил. Без изненада най-много автомобили се продават в столицата - София, следвана от Пловдив и Варна. Да видим как са разпределени областите по брой обяви:",
   "id": "13ed968f7e046fe3"
  },
  {
   "metadata": {},
   "cell_type": "code",
   "source": [
    "plt.figure(figsize=(12, 6))\n",
    "plt.title('Дял на обявите по области')\n",
    "plt.pie(dataset['Region'].value_counts(), labels=dataset['Region'].value_counts().index, autopct='%1.1f%%')"
   ],
   "id": "eb24229fb2f77d05",
   "outputs": [],
   "execution_count": null
  },
  {
   "metadata": {},
   "cell_type": "markdown",
   "source": "Над половината от обявите са в трите най-големи области в България - София, Пловдив и Варна. Да видим дали в областите, където се намират най-големите градове, цените на автомобилите са по-високи:",
   "id": "be6fdb31f5e4485a"
  },
  {
   "metadata": {},
   "cell_type": "code",
   "source": [
    "valid_indices = numeric_prices_no_outliers.index.intersection(dataset[location_columns].dropna().index)\n",
    "\n",
    "filtered_dataset = dataset.loc[valid_indices]\n",
    "filtered_prices = numeric_prices_no_outliers.loc[valid_indices]\n",
    "\n",
    "plt.title('Цена на автомобилите спрямо областта')\n",
    "plt.xlabel('Цена (лв.)')\n",
    "plt.ylabel('Област')\n",
    "sns.boxplot(data=filtered_dataset, x=filtered_prices, y='Region')"
   ],
   "id": "a94b7c73914c2d7e",
   "outputs": [],
   "execution_count": null
  },
  {
   "metadata": {},
   "cell_type": "markdown",
   "source": "Единствената по-голяма разлика в цените виждаме при автомобилите от чужбина. Този факт потвърждава гореизложената хипотеза, че цената на автомобилите от чужбина може да е по-висока поради разходите за внасяне на автомобила и свързани разходи.",
   "id": "75af24ff8a13ff04"
  },
  {
   "metadata": {},
   "cell_type": "markdown",
   "source": [
    "## Екстри\n",
    "\n",
    "Нека видим и наличната информация за екстрите, с които разполага всеки автомобил. Тези данни със сигурност имат голямо знаяение за цената на автомобила и ще бъде от голяма полза да ги разгледаме подробно и да ги преработим по най-добрия начин:"
   ],
   "id": "a175d5bd3841fb07"
  },
  {
   "metadata": {},
   "cell_type": "code",
   "source": "dataset.columns",
   "id": "f383f3ada514eed1",
   "outputs": [],
   "execution_count": null
  },
  {
   "metadata": {},
   "cell_type": "code",
   "source": [
    "extras_columns = ['SafetyFeatures', 'ComfortFeatures', 'OtherFeatures', 'ExteriorFeatures', 'InteriorFeatures', 'SecurityFeatures', 'SpecialisedFeatures']\n",
    "\n",
    "dataset[extras_columns].sample(15)"
   ],
   "id": "81b27f4bd5d113d2",
   "outputs": [],
   "execution_count": null
  },
  {
   "metadata": {},
   "cell_type": "markdown",
   "source": [
    "Данните не са представени по най-добрия начин за обработка и анализ. Екстрите са групирани в няколко категории, като всяка категория съдържа списък от екстри, разделени със запетаи. Това не е подходящо за анализ, както и за обучение на модел, тъй като всеки списък от екстри ще бъде третиран като една стойност, като това не само драстично увеличава възможните стойности/пермутации (кардиналността) на колоната, но и ще повлияе негативно на качеството на модела, тъй като не всички екстри оказват еднакво влияние върху цената на автомобила, и това ще попречи на модела да научи тези връзки, когато екстри с различно влияние са групирани в една стойност.\n",
    "Затова ще бъде добре при обработката на данните да отделим всяка екстра в отделна колона, като стойността на всяка колона ще бъде булева - дали даден автомобил разполага с тази екстра или не. Това ще ни позволи да анализираме влиянието на всяка екстра върху цената на автомобила и ще подготви данните за обучение на модела."
   ],
   "id": "1396ef6e0fbb1215"
  },
  {
   "metadata": {},
   "cell_type": "code",
   "source": [
    "exploded_features = dataset[extras_columns].copy()\n",
    "\n",
    "exploded_features = exploded_features.fillna('')\n",
    "\n",
    "for column in exploded_features.columns:\n",
    "    exploded_features = exploded_features.join(exploded_features[column].str.get_dummies(sep=', ').add_prefix(column + '_'))\n",
    "\n",
    "exploded_features.sample(15)"
   ],
   "id": "d17fd352f15df9fc",
   "outputs": [],
   "execution_count": null
  },
  {
   "metadata": {},
   "cell_type": "code",
   "source": [
    "dataset_with_exploded_features = dataset.join(exploded_features.drop(columns=extras_columns))\n",
    "\n",
    "dataset_with_exploded_features.drop(columns=extras_columns, inplace=True)\n",
    "\n",
    "dataset_with_exploded_features.sample(15)"
   ],
   "id": "a8efea6d5a9a272e",
   "outputs": [],
   "execution_count": null
  },
  {
   "metadata": {},
   "cell_type": "markdown",
   "source": "Може би ще бъде най-подходящо да разгледаме връзката между броя на екстрите във всяка категория и цената на автомобила:",
   "id": "a3cfb86b9051034e"
  },
  {
   "metadata": {},
   "cell_type": "code",
   "source": [
    "dataset_with_total_features = dataset_with_exploded_features.copy()\n",
    "\n",
    "dataset_with_total_features['TotalSafetyFeatures'] = dataset_with_exploded_features.filter(like='SafetyFeatures').sum(axis=1)\n",
    "dataset_with_total_features['TotalComfortFeatures'] = dataset_with_exploded_features.filter(like='ComfortFeatures').sum(axis=1)\n",
    "dataset_with_total_features['TotalOtherFeatures'] = dataset_with_exploded_features.filter(like='OtherFeatures').sum(axis=1)\n",
    "dataset_with_total_features['TotalExteriorFeatures'] = dataset_with_exploded_features.filter(like='ExteriorFeatures').sum(axis=1)\n",
    "dataset_with_total_features['TotalInteriorFeatures'] = dataset_with_exploded_features.filter(like='InteriorFeatures').sum(axis=1)\n",
    "dataset_with_total_features['TotalSecurityFeatures'] = dataset_with_exploded_features.filter(like='SecurityFeatures').sum(axis=1)\n",
    "dataset_with_total_features['TotalSpecialisedFeatures'] = dataset_with_exploded_features.filter(like='SpecialisedFeatures').sum(axis=1)\n",
    "\n",
    "dataset_with_total_features.sample(15)"
   ],
   "id": "7e4588be5f7f180c",
   "outputs": [],
   "execution_count": null
  },
  {
   "metadata": {},
   "cell_type": "code",
   "source": [
    "total_features_columns = ['TotalSafetyFeatures', 'TotalComfortFeatures', 'TotalOtherFeatures', 'TotalExteriorFeatures', 'TotalInteriorFeatures', 'TotalSecurityFeatures', 'TotalSpecialisedFeatures']\n",
    "\n",
    "valid_indices = numeric_prices_no_outliers.index.intersection(dataset_with_total_features.index)\n",
    "\n",
    "filtered_dataset = dataset_with_total_features.loc[valid_indices]\n",
    "filtered_prices = numeric_prices_no_outliers.loc[valid_indices]\n",
    "\n",
    "plt.figure(figsize=(16, 12))\n",
    "plt.suptitle('Цена на автомобилите спрямо броя на екстрите')\n",
    "\n",
    "for column in total_features_columns:\n",
    "    plt.subplot(3, 3, total_features_columns.index(column) + 1)\n",
    "    ax = sns.regplot(data=filtered_dataset, x=f'{column}', y=filtered_prices, line_kws={'color': 'red'})\n",
    "    ax.set(xlabel=f'Брой на екстрите в категория {column.removeprefix(\"Total\").removesuffix('Features')}', ylabel='Цена (лв.)')"
   ],
   "id": "32fcb773eed36e99",
   "outputs": [],
   "execution_count": null
  },
  {
   "metadata": {},
   "cell_type": "markdown",
   "source": "Всички графики показват, че по-голям брой на екстрите във всяка категория води до по-висока цена. Единствено при специализираните екстри това не е така. Нека разгледаме тези екстри по-подробно: ",
   "id": "6e51e6e0283beafd"
  },
  {
   "metadata": {},
   "cell_type": "code",
   "source": "dataset_with_exploded_features.filter(like='SpecialisedFeatures').columns.values",
   "id": "93da5302a144f23f",
   "outputs": [],
   "execution_count": null
  },
  {
   "metadata": {},
   "cell_type": "markdown",
   "source": "Откриваме, че всъщност специализираните екстри не представляват отделни подобрения, а представляват специализирана версия на автомобила като: Линейка, Катафалка, Учебен, предназначен за хора с увреждания и др. Струва си да разгледаме как всяка от тези колони влияе на цената на автомобила:",
   "id": "1f6593ec97bbe5e5"
  },
  {
   "metadata": {},
   "cell_type": "code",
   "source": [
    "plt.subplots(2, 4, figsize=(16, 8))\n",
    "plt.suptitle('Цена на автомобилите при наличие/отсъствие на специализирана екстра')\n",
    "\n",
    "for column in dataset_with_exploded_features.filter(like='SpecialisedFeatures').columns:\n",
    "    plt.subplot(2, 4, dataset_with_exploded_features.filter(like='SpecialisedFeatures').columns.get_loc(column) + 1)\n",
    "    sns.boxplot(data=filtered_dataset, x=column, y=filtered_prices)\n",
    "    plt.xlabel(column.removeprefix('SpecialisedFeatures_'))\n",
    "    plt.ylabel('Цена (лв.)')"
   ],
   "id": "db09474c06f90c85",
   "outputs": [],
   "execution_count": null
  },
  {
   "metadata": {},
   "cell_type": "markdown",
   "source": "За повечето колони наблюдаваме спад на цената, ако автомобилът е класифициран с някоя от тези категории. Това е разбираемо - такситата, линейките, катафалките и учебните автомобили обикновено имат много голям пробег поради интензивната им употреба и съответно са по-евтини. Единствено автомобилите с хомологация N1 са по-скъпи от останалите. При проверка какво всъщност означава автомобил да притежава тази категория откриваме, че автомобилите от клас N1 са товарни автомобили с маса до 3.5 тона (т.е. леки автомобили от категория B) и за тях се прилагат данъчни облекчения, тъй като често такива автомобили са фирмени и се използват за търговска дейност. Именно това ги прави по-скъпи от останалите.",
   "id": "185f95478a616c4b"
  },
  {
   "metadata": {},
   "cell_type": "markdown",
   "source": [
    "## Цвят, VIN номер\n",
    "\n",
    "Тези колони едва ли ще ни подскажат много за цената на автомобила, но все пак ще ги разгледаме:"
   ],
   "id": "e0d9c8add69dd5fe"
  },
  {
   "metadata": {},
   "cell_type": "code",
   "source": "dataset[['Color', 'VIN']].describe()",
   "id": "9c34bd774ab76ce6",
   "outputs": [],
   "execution_count": null
  },
  {
   "metadata": {},
   "cell_type": "markdown",
   "source": "Да видим все пак дали цвета оказва ефект върху цената:",
   "id": "c9bcec5dbb8cfce8"
  },
  {
   "metadata": {},
   "cell_type": "code",
   "source": [
    "plt.figure(figsize=(12, 7))\n",
    "plt.title('Цена на автомобилите спрямо цвета')\n",
    "plt.xlabel('Цена (лв.)')\n",
    "plt.ylabel('Цвят')\n",
    "sns.boxplot(data=filtered_dataset, x=numeric_prices_no_outliers, y='Color')"
   ],
   "id": "bd090f1db0d46852",
   "outputs": [],
   "execution_count": null
  },
  {
   "metadata": {},
   "cell_type": "markdown",
   "source": "Няма ясна връзка между цвета на автомобила и цената му. Единствено някои цветове като зелен, розов, резидав и банан не са много предпочитани и цената им е по-ниска.",
   "id": "b5f43ab85f297bf4"
  },
  {
   "metadata": {},
   "cell_type": "markdown",
   "source": [
    "## Корелация на колоните с цената на автомобила\n",
    "\n",
    "### Корелация на числовите колони с цената"
   ],
   "id": "45bec0cc81ebfc0e"
  },
  {
   "metadata": {},
   "cell_type": "code",
   "source": [
    "correlation_price = filtered_dataset.select_dtypes(include=np.number).loc[filtered_prices.index].corrwith(filtered_prices)\n",
    "\n",
    "plt.figure(figsize=(6, 21))\n",
    "plt.title('Корелация на числовите колони с цената на автомобила')\n",
    "plt.xlabel('Корелация')\n",
    "plt.ylabel('Колона')\n",
    "\n",
    "sns.barplot(correlation_price.sort_values(ascending=False), orient='h')"
   ],
   "id": "e9d2643a72985d3b",
   "outputs": [],
   "execution_count": null
  },
  {
   "metadata": {},
   "cell_type": "markdown",
   "source": "Видно е, че повечето колони имат положителна корелация с цената - по-голямата стойност в колоната допринася за по-висока цена, както вече установихме при прегледа на числовите колони. Откриваме и няколко колони с отрицателна корелация - по-голямата стойност в тях води до по-ниска цена. Това са колони като пробега (`Mileage`)",
   "id": "2b48467cb5c1fa3a"
  },
  {
   "metadata": {},
   "cell_type": "markdown",
   "source": "### Корелация на числовите колони помежду им",
   "id": "b6f3a4efe213ba8"
  },
  {
   "metadata": {},
   "cell_type": "code",
   "source": [
    "correlation_matrix = filtered_dataset.select_dtypes(include=np.number).loc[filtered_prices.index].corr()\n",
    "\n",
    "plt.figure(figsize=(22, 20))\n",
    "plt.title('Корелационна матрица на числовите колони', fontsize=20)\n",
    "\n",
    "sns.heatmap(correlation_matrix, fmt='.2f', cmap='coolwarm')"
   ],
   "id": "e075b0f1aff042c2",
   "outputs": [],
   "execution_count": null
  },
  {
   "metadata": {},
   "cell_type": "markdown",
   "source": [
    "Открояват се няколко колони с много силна корелация помежду си:\n",
    "- `BatterSize (EV)` и `MilesPerFullCharge (EV)` - по-голямата батерия води до по-голям пробег, показват едно и също нещо\n",
    "- `ComfortFeatures_TV` и `ComfortFeatures_DVD` - телевизорът и DVD-то винаги се срещат заедно\n",
    "- `ComfortFeatures_USB`, `ComfortFeatures_audio/video` с `ComfortFeatures_IN\\AUX изводи` - всички тези колони показват наличие на мултимедия в автомобила\n",
    "- `ComfortFeatures_Климатик` и `ComfortFeatures_Климатроник` - силна отрицателна корелация, при наличие на климатроник, климатикът липсва и обратното\n",
    "- `OtherFeatures_С регистрация` и `OtherFeatures_Нов внос` - силна отрицателна корелация, при нов внос автомобилът няма регистрация и обратно\n",
    "- `ExteriorFeatures_2(3) врати` и `ExteriorFeatures_4(5) врати` - силна отрицателна корелация, автомобилите с 2(3) врати нямат 4(5) врати и обратно"
   ],
   "id": "1e37670768e9a016"
  }
 ],
 "metadata": {
  "kernelspec": {
   "display_name": "Python 3",
   "language": "python",
   "name": "python3"
  },
  "language_info": {
   "codemirror_mode": {
    "name": "ipython",
    "version": 2
   },
   "file_extension": ".py",
   "mimetype": "text/x-python",
   "name": "python",
   "nbconvert_exporter": "python",
   "pygments_lexer": "ipython2",
   "version": "2.7.6"
  }
 },
 "nbformat": 4,
 "nbformat_minor": 5
}
